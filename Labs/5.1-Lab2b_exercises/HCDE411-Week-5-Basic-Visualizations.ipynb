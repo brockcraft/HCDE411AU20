{
 "cells": [
  {
   "cell_type": "markdown",
   "metadata": {},
   "source": [
    "# Basic Data Visualizations\n",
    "This module shows a few different techniques for retreiving and visualizing data using pandas and matplotlib. We will also work with the original cars dataset. You will need to add that dataset to your notebook for some of these examples to work."
   ]
  },
  {
   "cell_type": "code",
   "execution_count": 8,
   "metadata": {
    "_cell_guid": "b1076dfc-b9ad-4769-8c92-a6c4dae69d19",
    "_uuid": "8f2839f25d086af736a60e9eeb907d3b93b6e0e5"
   },
   "outputs": [],
   "source": [
    "import numpy as np # linear algebra\n",
    "import pandas as pd # data processing, CSV file I/O (e.g. pd.read_csv)"
   ]
  },
  {
   "cell_type": "markdown",
   "metadata": {},
   "source": [
    "To retreive some data to work with, you'll use a library called `pandas_datreader`, which allows you to connect to multiple external datasources. The documentation is here: [https://pydata.github.io/pandas-datareader/#](http://) \n",
    "\n",
    "To install the library in your server, use the `pip` tool. Open a terminal session on your server (It is in the Launcher tab. You may need to start a new Launcher from the File menu.). In the terminal session type: `pip install pandas-datareader`."
   ]
  },
  {
   "cell_type": "code",
   "execution_count": 9,
   "metadata": {},
   "outputs": [],
   "source": [
    "import pandas_datareader.data as web"
   ]
  },
  {
   "cell_type": "markdown",
   "metadata": {},
   "source": [
    "You will need the matplotlib library so that we can make charts. It is common practice to import it **as** `plt` - that's fewer characters to type, every time you want to access the functions. You also import `datetime`, to provide useful functions for working with dates (like getting the current time).\n"
   ]
  },
  {
   "cell_type": "code",
   "execution_count": 10,
   "metadata": {},
   "outputs": [],
   "source": [
    "import matplotlib.pyplot as plt\n",
    "import datetime as dt"
   ]
  },
  {
   "cell_type": "markdown",
   "metadata": {},
   "source": [
    "Next you'll retrieve stock tickers as an easy-to-access source of data to practice with. Then create a list to store the stock tickers."
   ]
  },
  {
   "cell_type": "code",
   "execution_count": 11,
   "metadata": {},
   "outputs": [
    {
     "data": {
      "text/html": [
       "<div>\n",
       "<style scoped>\n",
       "    .dataframe tbody tr th:only-of-type {\n",
       "        vertical-align: middle;\n",
       "    }\n",
       "\n",
       "    .dataframe tbody tr th {\n",
       "        vertical-align: top;\n",
       "    }\n",
       "\n",
       "    .dataframe thead tr th {\n",
       "        text-align: left;\n",
       "    }\n",
       "\n",
       "    .dataframe thead tr:last-of-type th {\n",
       "        text-align: right;\n",
       "    }\n",
       "</style>\n",
       "<table border=\"1\" class=\"dataframe\">\n",
       "  <thead>\n",
       "    <tr>\n",
       "      <th>Attributes</th>\n",
       "      <th>Adj Close</th>\n",
       "      <th>Close</th>\n",
       "      <th>High</th>\n",
       "      <th>Low</th>\n",
       "      <th>Open</th>\n",
       "      <th>Volume</th>\n",
       "    </tr>\n",
       "    <tr>\n",
       "      <th>Symbols</th>\n",
       "      <th>AAPL</th>\n",
       "      <th>AAPL</th>\n",
       "      <th>AAPL</th>\n",
       "      <th>AAPL</th>\n",
       "      <th>AAPL</th>\n",
       "      <th>AAPL</th>\n",
       "    </tr>\n",
       "    <tr>\n",
       "      <th>Date</th>\n",
       "      <th></th>\n",
       "      <th></th>\n",
       "      <th></th>\n",
       "      <th></th>\n",
       "      <th></th>\n",
       "      <th></th>\n",
       "    </tr>\n",
       "  </thead>\n",
       "  <tbody>\n",
       "    <tr>\n",
       "      <th>2017-01-03</th>\n",
       "      <td>27.548414</td>\n",
       "      <td>29.037500</td>\n",
       "      <td>29.082500</td>\n",
       "      <td>28.690001</td>\n",
       "      <td>28.950001</td>\n",
       "      <td>115127600.0</td>\n",
       "    </tr>\n",
       "    <tr>\n",
       "      <th>2017-01-04</th>\n",
       "      <td>27.517582</td>\n",
       "      <td>29.004999</td>\n",
       "      <td>29.127501</td>\n",
       "      <td>28.937500</td>\n",
       "      <td>28.962500</td>\n",
       "      <td>84472400.0</td>\n",
       "    </tr>\n",
       "    <tr>\n",
       "      <th>2017-01-05</th>\n",
       "      <td>27.657520</td>\n",
       "      <td>29.152500</td>\n",
       "      <td>29.215000</td>\n",
       "      <td>28.952499</td>\n",
       "      <td>28.980000</td>\n",
       "      <td>88774400.0</td>\n",
       "    </tr>\n",
       "    <tr>\n",
       "      <th>2017-01-06</th>\n",
       "      <td>27.965857</td>\n",
       "      <td>29.477501</td>\n",
       "      <td>29.540001</td>\n",
       "      <td>29.117500</td>\n",
       "      <td>29.195000</td>\n",
       "      <td>127007600.0</td>\n",
       "    </tr>\n",
       "    <tr>\n",
       "      <th>2017-01-09</th>\n",
       "      <td>28.222006</td>\n",
       "      <td>29.747499</td>\n",
       "      <td>29.857500</td>\n",
       "      <td>29.485001</td>\n",
       "      <td>29.487499</td>\n",
       "      <td>134247600.0</td>\n",
       "    </tr>\n",
       "  </tbody>\n",
       "</table>\n",
       "</div>"
      ],
      "text/plain": [
       "Attributes  Adj Close      Close       High        Low       Open       Volume\n",
       "Symbols          AAPL       AAPL       AAPL       AAPL       AAPL         AAPL\n",
       "Date                                                                          \n",
       "2017-01-03  27.548414  29.037500  29.082500  28.690001  28.950001  115127600.0\n",
       "2017-01-04  27.517582  29.004999  29.127501  28.937500  28.962500   84472400.0\n",
       "2017-01-05  27.657520  29.152500  29.215000  28.952499  28.980000   88774400.0\n",
       "2017-01-06  27.965857  29.477501  29.540001  29.117500  29.195000  127007600.0\n",
       "2017-01-09  28.222006  29.747499  29.857500  29.485001  29.487499  134247600.0"
      ]
     },
     "execution_count": 11,
     "metadata": {},
     "output_type": "execute_result"
    }
   ],
   "source": [
    "# Define the instruments to download. We would like to see Apple, Microsoft and the S&P500 index.\n",
    "tickers = ['AAPL'] #, 'MSFT', 'IBM'] (you can add more tickers as a list)\n",
    "\n",
    "# We would like all available data from 01/01/2017 until 12/31/2017.\n",
    "start_date = '2017-01-01' # you can set this to whatever date you want\n",
    "end_date = dt.datetime.now() # this puts the current time into a variable called end_date\n",
    "\n",
    "# This next function creates a pandas dataframe containing the results of the DataReader query\n",
    "# The 'yahoo' datasource provides the stock ticker info. (google and morningstar no longer work).\n",
    "# The results are stored as a dataframe called df (nice and short!)\n",
    "df = web.DataReader(tickers, data_source='yahoo', start=start_date, end=end_date)\n",
    "\n",
    "# Inspect the first 5 rows\n",
    "df.head()"
   ]
  },
  {
   "cell_type": "markdown",
   "metadata": {},
   "source": [
    "Now for the first visualization! You use the matplotlib library's plot function to access a basic line graph. It can take many paramenters, but it needs at least the data to work with and plot on the y-axis, which can be requested from the column headings you just retrieved into the new dataframe. You can plot the low closing value from the 'Low' coumn, for example."
   ]
  },
  {
   "cell_type": "code",
   "execution_count": 12,
   "metadata": {},
   "outputs": [
    {
     "data": {
      "text/plain": [
       "<matplotlib.axes._subplots.AxesSubplot at 0x7f32527f6ad0>"
      ]
     },
     "execution_count": 12,
     "metadata": {},
     "output_type": "execute_result"
    },
    {
     "data": {
      "image/png": "[encoded data removed]",
      "text/plain": [
       "<Figure size 432x288 with 1 Axes>"
      ]
     },
     "metadata": {
      "needs_background": "light"
     },
     "output_type": "display_data"
    }
   ],
   "source": [
    "df.plot(y='Low') "
   ]
  },
  {
   "cell_type": "markdown",
   "metadata": {},
   "source": [
    "Plotting multiple values is easy. Just specify which columns of the dataframe you want to plot."
   ]
  },
  {
   "cell_type": "code",
   "execution_count": 13,
   "metadata": {},
   "outputs": [
    {
     "data": {
      "text/plain": [
       "<matplotlib.axes._subplots.AxesSubplot at 0x7f322665c950>"
      ]
     },
     "execution_count": 13,
     "metadata": {},
     "output_type": "execute_result"
    },
    {
     "data": {
      "image/png": "[encoded data removed]",
      "text/plain": [
       "<Figure size 432x288 with 1 Axes>"
      ]
     },
     "metadata": {
      "needs_background": "light"
     },
     "output_type": "display_data"
    }
   ],
   "source": [
    "df[[\"High\", \"Low\"]].plot()"
   ]
  },
  {
   "cell_type": "markdown",
   "metadata": {},
   "source": [
    "You can also change the aesthetics of the plot to meet your. There are a lot of pre-set styles that you can choose from (easiest) or you can make your own by modifying specific parameters of the plot function (harder). To list the available styles, use the `style.available` function."
   ]
  },
  {
   "cell_type": "code",
   "execution_count": 14,
   "metadata": {},
   "outputs": [
    {
     "data": {
      "text/plain": [
       "['seaborn-poster',\n",
       " 'seaborn',\n",
       " 'seaborn-dark',\n",
       " 'fast',\n",
       " 'dark_background',\n",
       " 'seaborn-notebook',\n",
       " 'seaborn-talk',\n",
       " 'seaborn-paper',\n",
       " 'grayscale',\n",
       " 'Solarize_Light2',\n",
       " 'fivethirtyeight',\n",
       " 'tableau-colorblind10',\n",
       " '_classic_test',\n",
       " 'seaborn-colorblind',\n",
       " 'seaborn-muted',\n",
       " 'seaborn-pastel',\n",
       " 'seaborn-dark-palette',\n",
       " 'bmh',\n",
       " 'ggplot',\n",
       " 'seaborn-whitegrid',\n",
       " 'seaborn-ticks',\n",
       " 'seaborn-white',\n",
       " 'seaborn-deep',\n",
       " 'seaborn-bright',\n",
       " 'classic',\n",
       " 'seaborn-darkgrid']"
      ]
     },
     "execution_count": 14,
     "metadata": {},
     "output_type": "execute_result"
    }
   ],
   "source": [
    "plt.style.available"
   ]
  },
  {
   "cell_type": "markdown",
   "metadata": {},
   "source": [
    "To use a specific style, call the `style.use` function and set the parameter to the name of the style you want. You need to call this function every time you want to change the style."
   ]
  },
  {
   "cell_type": "code",
   "execution_count": 15,
   "metadata": {},
   "outputs": [
    {
     "data": {
      "text/plain": [
       "<matplotlib.axes._subplots.AxesSubplot at 0x7f3222150510>"
      ]
     },
     "execution_count": 15,
     "metadata": {},
     "output_type": "execute_result"
    },
    {
     "data": {
      "image/png": "[encoded data removed]",
      "text/plain": [
       "<Figure size 432x288 with 1 Axes>"
      ]
     },
     "metadata": {},
     "output_type": "display_data"
    }
   ],
   "source": [
    "plt.style.use(\"fivethirtyeight\") #need to reset this every time you want to change the template\n",
    "df[[\"High\", \"Low\"]].plot()"
   ]
  },
  {
   "cell_type": "code",
   "execution_count": 16,
   "metadata": {},
   "outputs": [
    {
     "data": {
      "text/plain": [
       "<matplotlib.axes._subplots.AxesSubplot at 0x7f322648cc90>"
      ]
     },
     "execution_count": 16,
     "metadata": {},
     "output_type": "execute_result"
    },
    {
     "data": {
      "image/png": "[encoded data removed]",
      "text/plain": [
       "<Figure size 432x288 with 1 Axes>"
      ]
     },
     "metadata": {},
     "output_type": "display_data"
    }
   ],
   "source": [
    "plt.style.use(\"ggplot\")\n",
    "df[[\"High\", \"Low\"]].plot()"
   ]
  },
  {
   "cell_type": "markdown",
   "metadata": {},
   "source": [
    "## Bar Charts\n",
    "You can also easily plot bar charts usling matplotlib. Bar charts are good representations for ranking categorical and nominal data. This example uses Google stock data to create categories of how many closing days were Poor, Good, or Stellar, depending on how they compare to the avarage closing value over the whole time period.\n",
    "\n",
    "Suppose you want to answer the question: *\"How many closing stock prices were low medium or high compared to the average closing price?\"*\n",
    "\n",
    "To do this, you need to know the average price over that time period and to create three categories for the closing values, compared to that average. You can use python to create categories of data from the stock prices. \n",
    "\n",
    "First get stock prices for Google (over the same time period as above).\n",
    "\n",
    "Then calculate what the average (mean) price was over that time period."
   ]
  },
  {
   "cell_type": "code",
   "execution_count": 17,
   "metadata": {},
   "outputs": [
    {
     "data": {
      "text/plain": [
       "1149.166712061564"
      ]
     },
     "execution_count": 17,
     "metadata": {},
     "output_type": "execute_result"
    }
   ],
   "source": [
    "google = web.DataReader('GOOG', data_source='yahoo', start=start_date, end=end_date)\n",
    "\n",
    "google['Close'].mean()"
   ]
  },
  {
   "cell_type": "code",
   "execution_count": 18,
   "metadata": {},
   "outputs": [
    {
     "data": {
      "text/html": [
       "<div>\n",
       "<style scoped>\n",
       "    .dataframe tbody tr th:only-of-type {\n",
       "        vertical-align: middle;\n",
       "    }\n",
       "\n",
       "    .dataframe tbody tr th {\n",
       "        vertical-align: top;\n",
       "    }\n",
       "\n",
       "    .dataframe thead th {\n",
       "        text-align: right;\n",
       "    }\n",
       "</style>\n",
       "<table border=\"1\" class=\"dataframe\">\n",
       "  <thead>\n",
       "    <tr style=\"text-align: right;\">\n",
       "      <th></th>\n",
       "      <th>High</th>\n",
       "      <th>Low</th>\n",
       "      <th>Open</th>\n",
       "      <th>Close</th>\n",
       "      <th>Volume</th>\n",
       "      <th>Adj Close</th>\n",
       "    </tr>\n",
       "    <tr>\n",
       "      <th>Date</th>\n",
       "      <th></th>\n",
       "      <th></th>\n",
       "      <th></th>\n",
       "      <th></th>\n",
       "      <th></th>\n",
       "      <th></th>\n",
       "    </tr>\n",
       "  </thead>\n",
       "  <tbody>\n",
       "    <tr>\n",
       "      <th>2017-01-03</th>\n",
       "      <td>789.630005</td>\n",
       "      <td>775.799988</td>\n",
       "      <td>778.809998</td>\n",
       "      <td>786.140015</td>\n",
       "      <td>1657300</td>\n",
       "      <td>786.140015</td>\n",
       "    </tr>\n",
       "    <tr>\n",
       "      <th>2017-01-04</th>\n",
       "      <td>791.340027</td>\n",
       "      <td>783.159973</td>\n",
       "      <td>788.359985</td>\n",
       "      <td>786.900024</td>\n",
       "      <td>1073000</td>\n",
       "      <td>786.900024</td>\n",
       "    </tr>\n",
       "    <tr>\n",
       "      <th>2017-01-05</th>\n",
       "      <td>794.479980</td>\n",
       "      <td>785.020020</td>\n",
       "      <td>786.080017</td>\n",
       "      <td>794.020020</td>\n",
       "      <td>1335200</td>\n",
       "      <td>794.020020</td>\n",
       "    </tr>\n",
       "    <tr>\n",
       "      <th>2017-01-06</th>\n",
       "      <td>807.900024</td>\n",
       "      <td>792.203979</td>\n",
       "      <td>795.260010</td>\n",
       "      <td>806.150024</td>\n",
       "      <td>1640200</td>\n",
       "      <td>806.150024</td>\n",
       "    </tr>\n",
       "    <tr>\n",
       "      <th>2017-01-09</th>\n",
       "      <td>809.966003</td>\n",
       "      <td>802.830017</td>\n",
       "      <td>806.400024</td>\n",
       "      <td>806.650024</td>\n",
       "      <td>1274600</td>\n",
       "      <td>806.650024</td>\n",
       "    </tr>\n",
       "    <tr>\n",
       "      <th>...</th>\n",
       "      <td>...</td>\n",
       "      <td>...</td>\n",
       "      <td>...</td>\n",
       "      <td>...</td>\n",
       "      <td>...</td>\n",
       "      <td>...</td>\n",
       "    </tr>\n",
       "    <tr>\n",
       "      <th>2020-10-19</th>\n",
       "      <td>1588.150024</td>\n",
       "      <td>1528.000000</td>\n",
       "      <td>1580.459961</td>\n",
       "      <td>1534.609985</td>\n",
       "      <td>1607100</td>\n",
       "      <td>1534.609985</td>\n",
       "    </tr>\n",
       "    <tr>\n",
       "      <th>2020-10-20</th>\n",
       "      <td>1577.500000</td>\n",
       "      <td>1525.670044</td>\n",
       "      <td>1527.050049</td>\n",
       "      <td>1555.930054</td>\n",
       "      <td>2241700</td>\n",
       "      <td>1555.930054</td>\n",
       "    </tr>\n",
       "    <tr>\n",
       "      <th>2020-10-21</th>\n",
       "      <td>1618.729980</td>\n",
       "      <td>1571.630005</td>\n",
       "      <td>1573.329956</td>\n",
       "      <td>1593.310059</td>\n",
       "      <td>2568300</td>\n",
       "      <td>1593.310059</td>\n",
       "    </tr>\n",
       "    <tr>\n",
       "      <th>2020-10-22</th>\n",
       "      <td>1621.989990</td>\n",
       "      <td>1585.000000</td>\n",
       "      <td>1593.050049</td>\n",
       "      <td>1615.329956</td>\n",
       "      <td>1433600</td>\n",
       "      <td>1615.329956</td>\n",
       "    </tr>\n",
       "    <tr>\n",
       "      <th>2020-10-23</th>\n",
       "      <td>1642.359985</td>\n",
       "      <td>1620.510010</td>\n",
       "      <td>1626.069946</td>\n",
       "      <td>1641.000000</td>\n",
       "      <td>1375200</td>\n",
       "      <td>1641.000000</td>\n",
       "    </tr>\n",
       "  </tbody>\n",
       "</table>\n",
       "<p>960 rows × 6 columns</p>\n",
       "</div>"
      ],
      "text/plain": [
       "                   High          Low         Open        Close   Volume  \\\n",
       "Date                                                                      \n",
       "2017-01-03   789.630005   775.799988   778.809998   786.140015  1657300   \n",
       "2017-01-04   791.340027   783.159973   788.359985   786.900024  1073000   \n",
       "2017-01-05   794.479980   785.020020   786.080017   794.020020  1335200   \n",
       "2017-01-06   807.900024   792.203979   795.260010   806.150024  1640200   \n",
       "2017-01-09   809.966003   802.830017   806.400024   806.650024  1274600   \n",
       "...                 ...          ...          ...          ...      ...   \n",
       "2020-10-19  1588.150024  1528.000000  1580.459961  1534.609985  1607100   \n",
       "2020-10-20  1577.500000  1525.670044  1527.050049  1555.930054  2241700   \n",
       "2020-10-21  1618.729980  1571.630005  1573.329956  1593.310059  2568300   \n",
       "2020-10-22  1621.989990  1585.000000  1593.050049  1615.329956  1433600   \n",
       "2020-10-23  1642.359985  1620.510010  1626.069946  1641.000000  1375200   \n",
       "\n",
       "              Adj Close  \n",
       "Date                     \n",
       "2017-01-03   786.140015  \n",
       "2017-01-04   786.900024  \n",
       "2017-01-05   794.020020  \n",
       "2017-01-06   806.150024  \n",
       "2017-01-09   806.650024  \n",
       "...                 ...  \n",
       "2020-10-19  1534.609985  \n",
       "2020-10-20  1555.930054  \n",
       "2020-10-21  1593.310059  \n",
       "2020-10-22  1615.329956  \n",
       "2020-10-23  1641.000000  \n",
       "\n",
       "[960 rows x 6 columns]"
      ]
     },
     "execution_count": 18,
     "metadata": {},
     "output_type": "execute_result"
    }
   ],
   "source": [
    "google"
   ]
  },
  {
   "cell_type": "markdown",
   "metadata": {},
   "source": [
    "You can use the mean price over that period to create three categories – depending upon whether the closing price on a day was lower, near it or above it.\n",
    "\n",
    "To do this create a function that you use to evaluate each price and set it's **rank performace**. You will pass this function the price on each row of the dataframe"
   ]
  },
  {
   "cell_type": "code",
   "execution_count": 19,
   "metadata": {},
   "outputs": [],
   "source": [
    "def rank_performance(stock_price):\n",
    "    if stock_price <= 900:\n",
    "        return \"Poor\"\n",
    "    elif stock_price>900 and stock_price <=1200:\n",
    "        return \"Good\"\n",
    "    elif stock_price>1200:\n",
    "        return \"Stellar\""
   ]
  },
  {
   "cell_type": "markdown",
   "metadata": {},
   "source": [
    "You then run this custom function against each of the values in the **Close** column."
   ]
  },
  {
   "cell_type": "code",
   "execution_count": 20,
   "metadata": {},
   "outputs": [
    {
     "data": {
      "text/plain": [
       "Date\n",
       "2017-01-03       Poor\n",
       "2017-01-04       Poor\n",
       "2017-01-05       Poor\n",
       "2017-01-06       Poor\n",
       "2017-01-09       Poor\n",
       "               ...   \n",
       "2020-10-19    Stellar\n",
       "2020-10-20    Stellar\n",
       "2020-10-21    Stellar\n",
       "2020-10-22    Stellar\n",
       "2020-10-23    Stellar\n",
       "Name: Close, Length: 960, dtype: object"
      ]
     },
     "execution_count": 20,
     "metadata": {},
     "output_type": "execute_result"
    }
   ],
   "source": [
    "google['Close'].apply(rank_performance)"
   ]
  },
  {
   "cell_type": "markdown",
   "metadata": {},
   "source": [
    "Note that the values haven't actually changed in the resulting data - you've simply stored the ranking for each value in the Close column in the datareader object. To show the data hasn't changed, just view the object:"
   ]
  },
  {
   "cell_type": "code",
   "execution_count": 21,
   "metadata": {},
   "outputs": [
    {
     "data": {
      "text/html": [
       "<div>\n",
       "<style scoped>\n",
       "    .dataframe tbody tr th:only-of-type {\n",
       "        vertical-align: middle;\n",
       "    }\n",
       "\n",
       "    .dataframe tbody tr th {\n",
       "        vertical-align: top;\n",
       "    }\n",
       "\n",
       "    .dataframe thead th {\n",
       "        text-align: right;\n",
       "    }\n",
       "</style>\n",
       "<table border=\"1\" class=\"dataframe\">\n",
       "  <thead>\n",
       "    <tr style=\"text-align: right;\">\n",
       "      <th></th>\n",
       "      <th>High</th>\n",
       "      <th>Low</th>\n",
       "      <th>Open</th>\n",
       "      <th>Close</th>\n",
       "      <th>Volume</th>\n",
       "      <th>Adj Close</th>\n",
       "    </tr>\n",
       "    <tr>\n",
       "      <th>Date</th>\n",
       "      <th></th>\n",
       "      <th></th>\n",
       "      <th></th>\n",
       "      <th></th>\n",
       "      <th></th>\n",
       "      <th></th>\n",
       "    </tr>\n",
       "  </thead>\n",
       "  <tbody>\n",
       "    <tr>\n",
       "      <th>2017-01-03</th>\n",
       "      <td>789.630005</td>\n",
       "      <td>775.799988</td>\n",
       "      <td>778.809998</td>\n",
       "      <td>786.140015</td>\n",
       "      <td>1657300</td>\n",
       "      <td>786.140015</td>\n",
       "    </tr>\n",
       "    <tr>\n",
       "      <th>2017-01-04</th>\n",
       "      <td>791.340027</td>\n",
       "      <td>783.159973</td>\n",
       "      <td>788.359985</td>\n",
       "      <td>786.900024</td>\n",
       "      <td>1073000</td>\n",
       "      <td>786.900024</td>\n",
       "    </tr>\n",
       "    <tr>\n",
       "      <th>2017-01-05</th>\n",
       "      <td>794.479980</td>\n",
       "      <td>785.020020</td>\n",
       "      <td>786.080017</td>\n",
       "      <td>794.020020</td>\n",
       "      <td>1335200</td>\n",
       "      <td>794.020020</td>\n",
       "    </tr>\n",
       "    <tr>\n",
       "      <th>2017-01-06</th>\n",
       "      <td>807.900024</td>\n",
       "      <td>792.203979</td>\n",
       "      <td>795.260010</td>\n",
       "      <td>806.150024</td>\n",
       "      <td>1640200</td>\n",
       "      <td>806.150024</td>\n",
       "    </tr>\n",
       "    <tr>\n",
       "      <th>2017-01-09</th>\n",
       "      <td>809.966003</td>\n",
       "      <td>802.830017</td>\n",
       "      <td>806.400024</td>\n",
       "      <td>806.650024</td>\n",
       "      <td>1274600</td>\n",
       "      <td>806.650024</td>\n",
       "    </tr>\n",
       "    <tr>\n",
       "      <th>...</th>\n",
       "      <td>...</td>\n",
       "      <td>...</td>\n",
       "      <td>...</td>\n",
       "      <td>...</td>\n",
       "      <td>...</td>\n",
       "      <td>...</td>\n",
       "    </tr>\n",
       "    <tr>\n",
       "      <th>2020-10-19</th>\n",
       "      <td>1588.150024</td>\n",
       "      <td>1528.000000</td>\n",
       "      <td>1580.459961</td>\n",
       "      <td>1534.609985</td>\n",
       "      <td>1607100</td>\n",
       "      <td>1534.609985</td>\n",
       "    </tr>\n",
       "    <tr>\n",
       "      <th>2020-10-20</th>\n",
       "      <td>1577.500000</td>\n",
       "      <td>1525.670044</td>\n",
       "      <td>1527.050049</td>\n",
       "      <td>1555.930054</td>\n",
       "      <td>2241700</td>\n",
       "      <td>1555.930054</td>\n",
       "    </tr>\n",
       "    <tr>\n",
       "      <th>2020-10-21</th>\n",
       "      <td>1618.729980</td>\n",
       "      <td>1571.630005</td>\n",
       "      <td>1573.329956</td>\n",
       "      <td>1593.310059</td>\n",
       "      <td>2568300</td>\n",
       "      <td>1593.310059</td>\n",
       "    </tr>\n",
       "    <tr>\n",
       "      <th>2020-10-22</th>\n",
       "      <td>1621.989990</td>\n",
       "      <td>1585.000000</td>\n",
       "      <td>1593.050049</td>\n",
       "      <td>1615.329956</td>\n",
       "      <td>1433600</td>\n",
       "      <td>1615.329956</td>\n",
       "    </tr>\n",
       "    <tr>\n",
       "      <th>2020-10-23</th>\n",
       "      <td>1642.359985</td>\n",
       "      <td>1620.510010</td>\n",
       "      <td>1626.069946</td>\n",
       "      <td>1641.000000</td>\n",
       "      <td>1375200</td>\n",
       "      <td>1641.000000</td>\n",
       "    </tr>\n",
       "  </tbody>\n",
       "</table>\n",
       "<p>960 rows × 6 columns</p>\n",
       "</div>"
      ],
      "text/plain": [
       "                   High          Low         Open        Close   Volume  \\\n",
       "Date                                                                      \n",
       "2017-01-03   789.630005   775.799988   778.809998   786.140015  1657300   \n",
       "2017-01-04   791.340027   783.159973   788.359985   786.900024  1073000   \n",
       "2017-01-05   794.479980   785.020020   786.080017   794.020020  1335200   \n",
       "2017-01-06   807.900024   792.203979   795.260010   806.150024  1640200   \n",
       "2017-01-09   809.966003   802.830017   806.400024   806.650024  1274600   \n",
       "...                 ...          ...          ...          ...      ...   \n",
       "2020-10-19  1588.150024  1528.000000  1580.459961  1534.609985  1607100   \n",
       "2020-10-20  1577.500000  1525.670044  1527.050049  1555.930054  2241700   \n",
       "2020-10-21  1618.729980  1571.630005  1573.329956  1593.310059  2568300   \n",
       "2020-10-22  1621.989990  1585.000000  1593.050049  1615.329956  1433600   \n",
       "2020-10-23  1642.359985  1620.510010  1626.069946  1641.000000  1375200   \n",
       "\n",
       "              Adj Close  \n",
       "Date                     \n",
       "2017-01-03   786.140015  \n",
       "2017-01-04   786.900024  \n",
       "2017-01-05   794.020020  \n",
       "2017-01-06   806.150024  \n",
       "2017-01-09   806.650024  \n",
       "...                 ...  \n",
       "2020-10-19  1534.609985  \n",
       "2020-10-20  1555.930054  \n",
       "2020-10-21  1593.310059  \n",
       "2020-10-22  1615.329956  \n",
       "2020-10-23  1641.000000  \n",
       "\n",
       "[960 rows x 6 columns]"
      ]
     },
     "execution_count": 21,
     "metadata": {},
     "output_type": "execute_result"
    }
   ],
   "source": [
    "google"
   ]
  },
  {
   "cell_type": "markdown",
   "metadata": {},
   "source": [
    "To finally create the bar chart of categories, you need to count how many times each ranking occurred. Conveninetly, the `value_counts()` function does this. If you use dot \".\" notation to append this function to the other ones, you don't have to create an intermediate variable to store the counts. You can just pass along the results right on to the `.plot()` function. In this way, you are concatenating the results of each step with the \"dot\" notation. Note the `kind` parameter sets it to a bar chart.\n",
    "\n",
    "*get coogle 'Close' . -> apply the rank performance function . -> count the results . -> plot the results*"
   ]
  },
  {
   "cell_type": "code",
   "execution_count": 22,
   "metadata": {},
   "outputs": [
    {
     "data": {
      "text/plain": [
       "<matplotlib.axes._subplots.AxesSubplot at 0x7f32221083d0>"
      ]
     },
     "execution_count": 22,
     "metadata": {},
     "output_type": "execute_result"
    },
    {
     "data": {
      "image/png": "[encoded data removed]",
      "text/plain": [
       "<Figure size 432x288 with 1 Axes>"
      ]
     },
     "metadata": {},
     "output_type": "display_data"
    }
   ],
   "source": [
    "google['Close'].apply(rank_performance).value_counts().plot(kind=\"bar\")"
   ]
  },
  {
   "cell_type": "markdown",
   "metadata": {},
   "source": [
    "If for some reason, you wanted a horizontal bar chart, just set the `kind` parameter to `\"barh\"`."
   ]
  },
  {
   "cell_type": "code",
   "execution_count": 23,
   "metadata": {},
   "outputs": [
    {
     "data": {
      "text/plain": [
       "<matplotlib.axes._subplots.AxesSubplot at 0x7f32221310d0>"
      ]
     },
     "execution_count": 23,
     "metadata": {},
     "output_type": "execute_result"
    },
    {
     "data": {
      "image/png": "[encoded data removed]",
      "text/plain": [
       "<Figure size 432x288 with 1 Axes>"
      ]
     },
     "metadata": {},
     "output_type": "display_data"
    }
   ],
   "source": [
    "google[\"Close\"].apply(rank_performance).value_counts().plot(kind=\"barh\")"
   ]
  },
  {
   "cell_type": "markdown",
   "metadata": {},
   "source": [
    "## Pie Charts\n",
    "It is similarly easy to plot categories with a pie cahrt, to create a part-to-whole comparison.\n",
    "\n",
    "First you load the results of the `DataReader` into a new variable to work with. Let's take Johnson & Johnson for example."
   ]
  },
  {
   "cell_type": "code",
   "execution_count": 24,
   "metadata": {},
   "outputs": [
    {
     "data": {
      "text/html": [
       "<div>\n",
       "<style scoped>\n",
       "    .dataframe tbody tr th:only-of-type {\n",
       "        vertical-align: middle;\n",
       "    }\n",
       "\n",
       "    .dataframe tbody tr th {\n",
       "        vertical-align: top;\n",
       "    }\n",
       "\n",
       "    .dataframe thead th {\n",
       "        text-align: right;\n",
       "    }\n",
       "</style>\n",
       "<table border=\"1\" class=\"dataframe\">\n",
       "  <thead>\n",
       "    <tr style=\"text-align: right;\">\n",
       "      <th></th>\n",
       "      <th>High</th>\n",
       "      <th>Low</th>\n",
       "      <th>Open</th>\n",
       "      <th>Close</th>\n",
       "      <th>Volume</th>\n",
       "      <th>Adj Close</th>\n",
       "    </tr>\n",
       "    <tr>\n",
       "      <th>Date</th>\n",
       "      <th></th>\n",
       "      <th></th>\n",
       "      <th></th>\n",
       "      <th></th>\n",
       "      <th></th>\n",
       "      <th></th>\n",
       "    </tr>\n",
       "  </thead>\n",
       "  <tbody>\n",
       "    <tr>\n",
       "      <th>2016-01-04</th>\n",
       "      <td>101.809998</td>\n",
       "      <td>99.449997</td>\n",
       "      <td>101.709999</td>\n",
       "      <td>100.480003</td>\n",
       "      <td>12722800.0</td>\n",
       "      <td>88.409317</td>\n",
       "    </tr>\n",
       "    <tr>\n",
       "      <th>2016-01-05</th>\n",
       "      <td>101.440002</td>\n",
       "      <td>100.570000</td>\n",
       "      <td>100.580002</td>\n",
       "      <td>100.900002</td>\n",
       "      <td>6467200.0</td>\n",
       "      <td>88.778877</td>\n",
       "    </tr>\n",
       "    <tr>\n",
       "      <th>2016-01-06</th>\n",
       "      <td>100.970001</td>\n",
       "      <td>99.599998</td>\n",
       "      <td>99.820000</td>\n",
       "      <td>100.389999</td>\n",
       "      <td>7733800.0</td>\n",
       "      <td>88.330139</td>\n",
       "    </tr>\n",
       "    <tr>\n",
       "      <th>2016-01-07</th>\n",
       "      <td>100.089996</td>\n",
       "      <td>98.879997</td>\n",
       "      <td>99.309998</td>\n",
       "      <td>99.220001</td>\n",
       "      <td>9433100.0</td>\n",
       "      <td>87.300682</td>\n",
       "    </tr>\n",
       "    <tr>\n",
       "      <th>2016-01-08</th>\n",
       "      <td>99.940002</td>\n",
       "      <td>97.849998</td>\n",
       "      <td>99.879997</td>\n",
       "      <td>98.160004</td>\n",
       "      <td>9766700.0</td>\n",
       "      <td>86.368034</td>\n",
       "    </tr>\n",
       "  </tbody>\n",
       "</table>\n",
       "</div>"
      ],
      "text/plain": [
       "                  High         Low        Open       Close      Volume  \\\n",
       "Date                                                                     \n",
       "2016-01-04  101.809998   99.449997  101.709999  100.480003  12722800.0   \n",
       "2016-01-05  101.440002  100.570000  100.580002  100.900002   6467200.0   \n",
       "2016-01-06  100.970001   99.599998   99.820000  100.389999   7733800.0   \n",
       "2016-01-07  100.089996   98.879997   99.309998   99.220001   9433100.0   \n",
       "2016-01-08   99.940002   97.849998   99.879997   98.160004   9766700.0   \n",
       "\n",
       "            Adj Close  \n",
       "Date                   \n",
       "2016-01-04  88.409317  \n",
       "2016-01-05  88.778877  \n",
       "2016-01-06  88.330139  \n",
       "2016-01-07  87.300682  \n",
       "2016-01-08  86.368034  "
      ]
     },
     "execution_count": 24,
     "metadata": {},
     "output_type": "execute_result"
    }
   ],
   "source": [
    "jnj = web.DataReader('JNJ', data_source='yahoo', start='2016-01-01', end=dt.datetime.now())\n",
    "jnj.head()"
   ]
  },
  {
   "cell_type": "markdown",
   "metadata": {},
   "source": [
    "How did performance each day compare to its average?\n",
    "First let's find out the average:"
   ]
  },
  {
   "cell_type": "code",
   "execution_count": 25,
   "metadata": {},
   "outputs": [
    {
     "data": {
      "text/plain": [
       "130.80986807291265"
      ]
     },
     "execution_count": 25,
     "metadata": {},
     "output_type": "execute_result"
    }
   ],
   "source": [
    "jnj['Close'].mean()"
   ]
  },
  {
   "cell_type": "markdown",
   "metadata": {},
   "source": [
    "We can write another custom performance to determine whether each value is above or below the average score over this time period."
   ]
  },
  {
   "cell_type": "code",
   "execution_count": 26,
   "metadata": {},
   "outputs": [],
   "source": [
    "def above_or_below(stock_price):\n",
    "    if stock_price >= 128.33:\n",
    "        return \"Above average\"\n",
    "    else:\n",
    "        return \"Below average\""
   ]
  },
  {
   "cell_type": "markdown",
   "metadata": {},
   "source": [
    "You can then create a pie based upon the values for the results of your custom function. Note the styling choices in this example. A full list of the styling parameters is in the matplotlib documentation. [https://matplotlib.org/3.1.0/api/_as_gen/matplotlib.pyplot.pie.html](http://)"
   ]
  },
  {
   "cell_type": "code",
   "execution_count": 27,
   "metadata": {},
   "outputs": [
    {
     "data": {
      "text/plain": [
       "<matplotlib.axes._subplots.AxesSubplot at 0x7f32220ee0d0>"
      ]
     },
     "execution_count": 27,
     "metadata": {},
     "output_type": "execute_result"
    },
    {
     "data": {
      "image/png": "[encoded data removed]",
      "text/plain": [
       "<Figure size 432x288 with 1 Axes>"
      ]
     },
     "metadata": {},
     "output_type": "display_data"
    }
   ],
   "source": [
    "labels='above','below'\n",
    "colors = ['mediumseagreen','lightcoral'] \n",
    "jnj[\"Close\"].apply(above_or_below).value_counts().plot(kind='pie', legend=False, labels=labels, colors=colors)"
   ]
  },
  {
   "cell_type": "markdown",
   "metadata": {},
   "source": [
    "## Scatter Plots"
   ]
  },
  {
   "cell_type": "markdown",
   "metadata": {},
   "source": [
    "Scatterplots require at least two columns of data, because you need to specify which axes to compare. To try out these examples, you need my `original cars.csv` dataset, on Kaggle. `read_csv()` function to create a dataframe from the file."
   ]
  },
  {
   "cell_type": "code",
   "execution_count": 29,
   "metadata": {
    "_cell_guid": "",
    "_uuid": ""
   },
   "outputs": [
    {
     "data": {
      "text/html": [
       "<div>\n",
       "<style scoped>\n",
       "    .dataframe tbody tr th:only-of-type {\n",
       "        vertical-align: middle;\n",
       "    }\n",
       "\n",
       "    .dataframe tbody tr th {\n",
       "        vertical-align: top;\n",
       "    }\n",
       "\n",
       "    .dataframe thead th {\n",
       "        text-align: right;\n",
       "    }\n",
       "</style>\n",
       "<table border=\"1\" class=\"dataframe\">\n",
       "  <thead>\n",
       "    <tr style=\"text-align: right;\">\n",
       "      <th></th>\n",
       "      <th>Vehicle Name</th>\n",
       "      <th>Sedan</th>\n",
       "      <th>Sports Car</th>\n",
       "      <th>SUV</th>\n",
       "      <th>Wagon</th>\n",
       "      <th>Minivan</th>\n",
       "      <th>Pickup</th>\n",
       "      <th>AWD</th>\n",
       "      <th>RWD</th>\n",
       "      <th>Retail Price</th>\n",
       "      <th>Dealer Cost</th>\n",
       "      <th>Engine Size (l)</th>\n",
       "      <th>Cyl</th>\n",
       "      <th>HP</th>\n",
       "      <th>City MPG</th>\n",
       "      <th>Hwy MPG</th>\n",
       "      <th>Weight</th>\n",
       "      <th>Wheel Base</th>\n",
       "      <th>Len</th>\n",
       "      <th>Width</th>\n",
       "    </tr>\n",
       "  </thead>\n",
       "  <tbody>\n",
       "    <tr>\n",
       "      <th>0</th>\n",
       "      <td>Acura 3.5 RL 4dr</td>\n",
       "      <td>1</td>\n",
       "      <td>0</td>\n",
       "      <td>0</td>\n",
       "      <td>0</td>\n",
       "      <td>0</td>\n",
       "      <td>0</td>\n",
       "      <td>0</td>\n",
       "      <td>0</td>\n",
       "      <td>43755</td>\n",
       "      <td>39014</td>\n",
       "      <td>3.5</td>\n",
       "      <td>6</td>\n",
       "      <td>225</td>\n",
       "      <td>18</td>\n",
       "      <td>24</td>\n",
       "      <td>3880</td>\n",
       "      <td>115</td>\n",
       "      <td>197</td>\n",
       "      <td>72</td>\n",
       "    </tr>\n",
       "    <tr>\n",
       "      <th>1</th>\n",
       "      <td>Acura 3.5 RL w/Navigation 4dr</td>\n",
       "      <td>1</td>\n",
       "      <td>0</td>\n",
       "      <td>0</td>\n",
       "      <td>0</td>\n",
       "      <td>0</td>\n",
       "      <td>0</td>\n",
       "      <td>0</td>\n",
       "      <td>0</td>\n",
       "      <td>46100</td>\n",
       "      <td>41100</td>\n",
       "      <td>3.5</td>\n",
       "      <td>6</td>\n",
       "      <td>225</td>\n",
       "      <td>18</td>\n",
       "      <td>24</td>\n",
       "      <td>3893</td>\n",
       "      <td>115</td>\n",
       "      <td>197</td>\n",
       "      <td>72</td>\n",
       "    </tr>\n",
       "    <tr>\n",
       "      <th>2</th>\n",
       "      <td>Acura MDX</td>\n",
       "      <td>0</td>\n",
       "      <td>0</td>\n",
       "      <td>1</td>\n",
       "      <td>0</td>\n",
       "      <td>0</td>\n",
       "      <td>0</td>\n",
       "      <td>1</td>\n",
       "      <td>0</td>\n",
       "      <td>36945</td>\n",
       "      <td>33337</td>\n",
       "      <td>3.5</td>\n",
       "      <td>6</td>\n",
       "      <td>265</td>\n",
       "      <td>17</td>\n",
       "      <td>23</td>\n",
       "      <td>4451</td>\n",
       "      <td>106</td>\n",
       "      <td>189</td>\n",
       "      <td>77</td>\n",
       "    </tr>\n",
       "    <tr>\n",
       "      <th>3</th>\n",
       "      <td>Acura NSX coupe 2dr manual S</td>\n",
       "      <td>0</td>\n",
       "      <td>1</td>\n",
       "      <td>0</td>\n",
       "      <td>0</td>\n",
       "      <td>0</td>\n",
       "      <td>0</td>\n",
       "      <td>0</td>\n",
       "      <td>1</td>\n",
       "      <td>89765</td>\n",
       "      <td>79978</td>\n",
       "      <td>3.2</td>\n",
       "      <td>6</td>\n",
       "      <td>290</td>\n",
       "      <td>17</td>\n",
       "      <td>24</td>\n",
       "      <td>3153</td>\n",
       "      <td>100</td>\n",
       "      <td>174</td>\n",
       "      <td>71</td>\n",
       "    </tr>\n",
       "    <tr>\n",
       "      <th>4</th>\n",
       "      <td>Acura RSX Type S 2dr</td>\n",
       "      <td>1</td>\n",
       "      <td>0</td>\n",
       "      <td>0</td>\n",
       "      <td>0</td>\n",
       "      <td>0</td>\n",
       "      <td>0</td>\n",
       "      <td>0</td>\n",
       "      <td>0</td>\n",
       "      <td>23820</td>\n",
       "      <td>21761</td>\n",
       "      <td>2.0</td>\n",
       "      <td>4</td>\n",
       "      <td>200</td>\n",
       "      <td>24</td>\n",
       "      <td>31</td>\n",
       "      <td>2778</td>\n",
       "      <td>101</td>\n",
       "      <td>172</td>\n",
       "      <td>68</td>\n",
       "    </tr>\n",
       "    <tr>\n",
       "      <th>...</th>\n",
       "      <td>...</td>\n",
       "      <td>...</td>\n",
       "      <td>...</td>\n",
       "      <td>...</td>\n",
       "      <td>...</td>\n",
       "      <td>...</td>\n",
       "      <td>...</td>\n",
       "      <td>...</td>\n",
       "      <td>...</td>\n",
       "      <td>...</td>\n",
       "      <td>...</td>\n",
       "      <td>...</td>\n",
       "      <td>...</td>\n",
       "      <td>...</td>\n",
       "      <td>...</td>\n",
       "      <td>...</td>\n",
       "      <td>...</td>\n",
       "      <td>...</td>\n",
       "      <td>...</td>\n",
       "      <td>...</td>\n",
       "    </tr>\n",
       "    <tr>\n",
       "      <th>382</th>\n",
       "      <td>Volvo S80 2.9 4dr</td>\n",
       "      <td>1</td>\n",
       "      <td>0</td>\n",
       "      <td>0</td>\n",
       "      <td>0</td>\n",
       "      <td>0</td>\n",
       "      <td>0</td>\n",
       "      <td>0</td>\n",
       "      <td>0</td>\n",
       "      <td>37730</td>\n",
       "      <td>35542</td>\n",
       "      <td>2.9</td>\n",
       "      <td>6</td>\n",
       "      <td>208</td>\n",
       "      <td>20</td>\n",
       "      <td>28</td>\n",
       "      <td>3576</td>\n",
       "      <td>110</td>\n",
       "      <td>190</td>\n",
       "      <td>72</td>\n",
       "    </tr>\n",
       "    <tr>\n",
       "      <th>383</th>\n",
       "      <td>Volvo S80 T6 4dr</td>\n",
       "      <td>1</td>\n",
       "      <td>0</td>\n",
       "      <td>0</td>\n",
       "      <td>0</td>\n",
       "      <td>0</td>\n",
       "      <td>0</td>\n",
       "      <td>0</td>\n",
       "      <td>0</td>\n",
       "      <td>45210</td>\n",
       "      <td>42573</td>\n",
       "      <td>2.9</td>\n",
       "      <td>6</td>\n",
       "      <td>268</td>\n",
       "      <td>19</td>\n",
       "      <td>26</td>\n",
       "      <td>3653</td>\n",
       "      <td>110</td>\n",
       "      <td>190</td>\n",
       "      <td>72</td>\n",
       "    </tr>\n",
       "    <tr>\n",
       "      <th>384</th>\n",
       "      <td>Volvo V40</td>\n",
       "      <td>0</td>\n",
       "      <td>0</td>\n",
       "      <td>0</td>\n",
       "      <td>1</td>\n",
       "      <td>0</td>\n",
       "      <td>0</td>\n",
       "      <td>0</td>\n",
       "      <td>0</td>\n",
       "      <td>26135</td>\n",
       "      <td>24641</td>\n",
       "      <td>1.9</td>\n",
       "      <td>4</td>\n",
       "      <td>170</td>\n",
       "      <td>22</td>\n",
       "      <td>29</td>\n",
       "      <td>2822</td>\n",
       "      <td>101</td>\n",
       "      <td>180</td>\n",
       "      <td>68</td>\n",
       "    </tr>\n",
       "    <tr>\n",
       "      <th>385</th>\n",
       "      <td>Volvo XC70</td>\n",
       "      <td>0</td>\n",
       "      <td>0</td>\n",
       "      <td>0</td>\n",
       "      <td>1</td>\n",
       "      <td>0</td>\n",
       "      <td>0</td>\n",
       "      <td>1</td>\n",
       "      <td>0</td>\n",
       "      <td>35145</td>\n",
       "      <td>33112</td>\n",
       "      <td>2.5</td>\n",
       "      <td>5</td>\n",
       "      <td>208</td>\n",
       "      <td>20</td>\n",
       "      <td>27</td>\n",
       "      <td>3823</td>\n",
       "      <td>109</td>\n",
       "      <td>186</td>\n",
       "      <td>73</td>\n",
       "    </tr>\n",
       "    <tr>\n",
       "      <th>386</th>\n",
       "      <td>Volvo XC90 T6</td>\n",
       "      <td>0</td>\n",
       "      <td>0</td>\n",
       "      <td>1</td>\n",
       "      <td>0</td>\n",
       "      <td>0</td>\n",
       "      <td>0</td>\n",
       "      <td>1</td>\n",
       "      <td>0</td>\n",
       "      <td>41250</td>\n",
       "      <td>38851</td>\n",
       "      <td>2.9</td>\n",
       "      <td>6</td>\n",
       "      <td>268</td>\n",
       "      <td>15</td>\n",
       "      <td>20</td>\n",
       "      <td>4638</td>\n",
       "      <td>113</td>\n",
       "      <td>189</td>\n",
       "      <td>75</td>\n",
       "    </tr>\n",
       "  </tbody>\n",
       "</table>\n",
       "<p>387 rows × 20 columns</p>\n",
       "</div>"
      ],
      "text/plain": [
       "                      Vehicle Name  Sedan  Sports Car  SUV  Wagon  Minivan  \\\n",
       "0                 Acura 3.5 RL 4dr      1           0    0      0        0   \n",
       "1    Acura 3.5 RL w/Navigation 4dr      1           0    0      0        0   \n",
       "2                        Acura MDX      0           0    1      0        0   \n",
       "3     Acura NSX coupe 2dr manual S      0           1    0      0        0   \n",
       "4             Acura RSX Type S 2dr      1           0    0      0        0   \n",
       "..                             ...    ...         ...  ...    ...      ...   \n",
       "382              Volvo S80 2.9 4dr      1           0    0      0        0   \n",
       "383               Volvo S80 T6 4dr      1           0    0      0        0   \n",
       "384                      Volvo V40      0           0    0      1        0   \n",
       "385                     Volvo XC70      0           0    0      1        0   \n",
       "386                  Volvo XC90 T6      0           0    1      0        0   \n",
       "\n",
       "     Pickup  AWD  RWD  Retail Price  Dealer Cost  Engine Size (l)  Cyl   HP  \\\n",
       "0         0    0    0         43755        39014              3.5    6  225   \n",
       "1         0    0    0         46100        41100              3.5    6  225   \n",
       "2         0    1    0         36945        33337              3.5    6  265   \n",
       "3         0    0    1         89765        79978              3.2    6  290   \n",
       "4         0    0    0         23820        21761              2.0    4  200   \n",
       "..      ...  ...  ...           ...          ...              ...  ...  ...   \n",
       "382       0    0    0         37730        35542              2.9    6  208   \n",
       "383       0    0    0         45210        42573              2.9    6  268   \n",
       "384       0    0    0         26135        24641              1.9    4  170   \n",
       "385       0    1    0         35145        33112              2.5    5  208   \n",
       "386       0    1    0         41250        38851              2.9    6  268   \n",
       "\n",
       "     City MPG  Hwy MPG  Weight  Wheel Base  Len  Width  \n",
       "0          18       24    3880         115  197     72  \n",
       "1          18       24    3893         115  197     72  \n",
       "2          17       23    4451         106  189     77  \n",
       "3          17       24    3153         100  174     71  \n",
       "4          24       31    2778         101  172     68  \n",
       "..        ...      ...     ...         ...  ...    ...  \n",
       "382        20       28    3576         110  190     72  \n",
       "383        19       26    3653         110  190     72  \n",
       "384        22       29    2822         101  180     68  \n",
       "385        20       27    3823         109  186     73  \n",
       "386        15       20    4638         113  189     75  \n",
       "\n",
       "[387 rows x 20 columns]"
      ]
     },
     "execution_count": 29,
     "metadata": {},
     "output_type": "execute_result"
    }
   ],
   "source": [
    "cars = pd.read_csv(\"data_cars_2004.csv\")\n",
    "cars # show the head and tail of this file"
   ]
  },
  {
   "cell_type": "markdown",
   "metadata": {},
   "source": [
    "To show what a generic scatterplot might look like you can create a bunch of random points and make them have random weights."
   ]
  },
  {
   "cell_type": "code",
   "execution_count": null,
   "metadata": {},
   "outputs": [],
   "source": [
    "N = 50\n",
    "x = np.random.rand(N)\n",
    "y = np.random.rand(N)\n",
    "colors = np.random.rand(N)\n",
    "size = (30 * np.random.rand(N))**2  # 0 to 15 point radii\n",
    "\n",
    "plt.scatter(x, y, s=size, c=colors, alpha=0.5)\n",
    "plt.show()"
   ]
  },
  {
   "cell_type": "code",
   "execution_count": null,
   "metadata": {},
   "outputs": [],
   "source": [
    "x=cars[['Hwy MPG']]\n",
    "y=cars[['HP']]\n",
    "cars[['Hwy MPG','HP']].plot(kind='scatter', x='Hwy MPG', y='HP', alpha=0.5)"
   ]
  },
  {
   "cell_type": "code",
   "execution_count": null,
   "metadata": {},
   "outputs": [],
   "source": [
    "cars[['Hwy MPG','HP']].plot(kind='scatter',x='Hwy MPG', y='HP',  alpha=0.5)"
   ]
  },
  {
   "cell_type": "markdown",
   "metadata": {},
   "source": [
    "You can access the `size` parameter to change how big the dots are. And the `figsize` to adjust how big the graph is."
   ]
  },
  {
   "cell_type": "code",
   "execution_count": null,
   "metadata": {},
   "outputs": [],
   "source": [
    "#list(cars)\n",
    "size=cars[['Retail Price']]  # we can use the size parameter to set the size of the marks\n",
    "cars[['Hwy MPG','HP']].plot(kind='scatter', x='Hwy MPG', y='HP', alpha=0.5, s=size*.005, figsize=(12,8))"
   ]
  },
  {
   "cell_type": "markdown",
   "metadata": {},
   "source": [
    "## Distributions\n",
    "You can easily plot the distribution of values in an axis (i.e., column) using the matplotlib `hist()` function. You can specify a list of only the columsnb"
   ]
  },
  {
   "cell_type": "code",
   "execution_count": null,
   "metadata": {},
   "outputs": [],
   "source": [
    "hist=cars.hist(column='Hwy MPG')"
   ]
  },
  {
   "cell_type": "markdown",
   "metadata": {},
   "source": [
    "You can plot several columns by passing a list to the `column` paramater."
   ]
  },
  {
   "cell_type": "code",
   "execution_count": null,
   "metadata": {},
   "outputs": [],
   "source": [
    "hist=cars.hist(column=['Hwy MPG', 'HP'])"
   ]
  },
  {
   "cell_type": "markdown",
   "metadata": {},
   "source": [
    "If you specify no parameters for which column you get them all! In the example below, the figure is made larger so that the histograms don't overlap each other."
   ]
  },
  {
   "cell_type": "code",
   "execution_count": null,
   "metadata": {},
   "outputs": [],
   "source": [
    "hist=cars.hist(figsize=(16,12))"
   ]
  },
  {
   "cell_type": "markdown",
   "metadata": {},
   "source": [
    "You can customize the histogram by providing the hist() method additional parameters and matplotlib styling:"
   ]
  },
  {
   "cell_type": "code",
   "execution_count": null,
   "metadata": {},
   "outputs": [],
   "source": [
    "hist = cars.hist(column='Hwy MPG', bins=10, grid=False, figsize=(12,8), color='#4290be', zorder=2, rwidth=0.9)\n",
    "\n",
    "hist = hist[0] # each unique value is accessed by its index (the car name) which is in clumn 0\n",
    "\n",
    "for x in hist:\n",
    "\n",
    "    # Switch off tickmarks\n",
    "    x.tick_params(axis=\"both\", which=\"both\", bottom=False, top=True, labelbottom=True, left=False, right=False, labelleft=True)\n",
    "\n",
    "    # Draw horizontal axis lines\n",
    "    vals = x.get_yticks()\n",
    "    for tick in vals:\n",
    "        x.axhline(y=tick, linestyle='dashed', alpha=0.4, color='#eeeeee', zorder=1)\n",
    "\n",
    "    # Set title (set to \"\" for no title!)\n",
    "    x.set_title(\"Cars and MPG\")\n",
    "\n",
    "    # Set x-axis label\n",
    "    x.set_xlabel(\"Miles per Gallon\", labelpad=20, weight='bold', size=12)\n",
    "\n",
    "    # Set y-axis label\n",
    "    x.set_ylabel(\"Number of cars\", labelpad=20, weight='bold', size=12)"
   ]
  },
  {
   "cell_type": "markdown",
   "metadata": {},
   "source": [
    "# Exercises: Part 1\n",
    "\n",
    "Refer to the examples above to guide you in completing the following exercises. You may need to do some research in the Pandas or Matplotlib documentation to help you out.\n",
    "\n",
    "## Exercise 1\n",
    "\n",
    "- Create a new dataframe that contains only the Name, Highway MPG, rating and Weight of each car in the dataset.\n",
    "- Display the last 15 entries in the dataframe\n",
    "- Use the new dataframe to create a bar chart that shows the number of cars for each MPG rating (e.g., there are 10 cars with an MPG of 32), with the values sorted in ascending order."
   ]
  },
  {
   "cell_type": "code",
   "execution_count": null,
   "metadata": {},
   "outputs": [],
   "source": [
    "### Your code here"
   ]
  },
  {
   "cell_type": "markdown",
   "metadata": {},
   "source": [
    "## Exercise 2\n",
    "\n",
    "- Create a table that shows the names of the top 10 heaviest cars.\n",
    "- Make a new dataframe for only these 10 \"heaviest\".\n",
    "- Create a horizontal bar chart that shows the top 5 \"heaviest\" in descending order, their labels and values. It should be sized at 10 x 8. The names of the vehicles should be shown to the left of the bars. Set the x and y labels to show \"weight\" and \"Top 5 heaviest cars\" (Hint: it may be easiest to do this with a new dataframe.)"
   ]
  },
  {
   "cell_type": "code",
   "execution_count": null,
   "metadata": {},
   "outputs": [],
   "source": [
    "### Your code here"
   ]
  },
  {
   "cell_type": "markdown",
   "metadata": {},
   "source": [
    "## Exercise 3\n",
    "\n",
    "Flex your skills! Create your own arbitrary chart from any of the values in the Cars dataset. Document your approach in the markdown cells. Cite any external references."
   ]
  },
  {
   "cell_type": "code",
   "execution_count": null,
   "metadata": {},
   "outputs": [],
   "source": [
    "### Your code here"
   ]
  },
  {
   "cell_type": "markdown",
   "metadata": {},
   "source": [
    "# Exercises: Part 2\n",
    "Make sure that the lab file `Sample-Superstore-Orders.csv` is stored in your notebook before continuing with the following exercises.\n",
    "\n",
    "In Exercises 4-6, we'll use the Superstore Data we saw in the Tableau data cleaning exercises to create visualizations.\n",
    "\n",
    "## Exercise 4\n",
    "\n",
    "Use the source data to create a histogram of the distribution of Sales in Illinois. Use your own judgement as to how to style and present the chart."
   ]
  },
  {
   "cell_type": "code",
   "execution_count": null,
   "metadata": {},
   "outputs": [],
   "source": [
    "### Your code here"
   ]
  },
  {
   "cell_type": "markdown",
   "metadata": {},
   "source": [
    "## Exercise 5\n",
    "\n",
    "Use the source data to create a time series of Sales data for Illinois, New York, and California. Your visualization should show data for all three states in the same chart. Use your own judgement as to how to style and present the chart."
   ]
  },
  {
   "cell_type": "code",
   "execution_count": null,
   "metadata": {},
   "outputs": [],
   "source": [
    "### Your code here"
   ]
  },
  {
   "cell_type": "markdown",
   "metadata": {},
   "source": [
    "## Exercise 6\n",
    "Locate your own data file for the final exercise. It can be any .csv file from any source that you have access to or that is online. Check Canvas for a list of data sources. Use your source data to a new visualization. Explain your chart, including choice of dimensions, values, and encodings in comments or a markdown text box.\n",
    "\n",
    "**Stretch Goal for one extra point: Create an additional visualization of a type that we did not cover in class. (e.g., bar chart, box plot, etc.)**"
   ]
  },
  {
   "cell_type": "code",
   "execution_count": null,
   "metadata": {},
   "outputs": [],
   "source": [
    "### Your code here"
   ]
  }
 ],
 "metadata": {
  "kernelspec": {
   "display_name": "Python 3",
   "language": "python",
   "name": "python3"
  },
  "language_info": {
   "codemirror_mode": {
    "name": "ipython",
    "version": 3
   },
   "file_extension": ".py",
   "mimetype": "text/x-python",
   "name": "python",
   "nbconvert_exporter": "python",
   "pygments_lexer": "ipython3",
   "version": "3.7.4"
  }
 },
 "nbformat": 4,
 "nbformat_minor": 4
}
