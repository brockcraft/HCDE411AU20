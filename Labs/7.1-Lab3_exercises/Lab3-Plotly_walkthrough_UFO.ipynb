{
 "cells": [
  {
   "cell_type": "markdown",
   "metadata": {},
   "source": [
    "# Plotly Walkthrough\n",
    "HCDE 411 - Fall 2020\n",
    "\n",
    "Plotly is an open source graphing library for Python. This module shows basic visualizations that can be done using Plotly. \n",
    "\n",
    ">_Built on top of the Plotly JavaScript library (plotly.js), plotly enables Python users to create beautiful interactive web-based visualizations that can be displayed in Jupyter notebooks, saved to standalone HTML files, or served as part of pure Python-built web applications using Dash. The plotly Python library is sometimes referred to as \"plotly.py\" to differentiate it from the JavaScript library._\n",
    "\n",
    "The specific implementation we are using is Plotly Express ([see info here](https://medium.com/plotly/introducing-plotly-express-808df010143d)), which is a wrapper for the plotly python library, which makes it even easier to use!\n",
    "\n",
    "## Setup\n",
    "\n",
    "### Install plotly\n",
    "To install the library in your server, use the pip tool. Open a terminal session on your server (It is in the Launcher tab. You may need to start a new Launcher from the File menu.). In the terminal session type: `pip insall --user plotly`.\n",
    "\n",
    "\n",
    "### Rebuild the labextensions\n",
    "Plotly requires Rebuild your jupyter lab extensions with this command:\n",
    "`jupyter labextension install jupyterlab-plotly --minimize=False`\n",
    "\n",
    "Check your installation succeeded with: `jupyter labextension list`:\n",
    "\n",
    "`jovyan@jupyter-agreatstudent:~$ \n",
    "JupyterLab v1.2.16\n",
    "Known labextensions:\n",
    "   app dir: /opt/conda/share/jupyter/lab\n",
    "        @jupyter-widgets/jupyterlab-manager v1.1.0  enabled  OK\n",
    "        jupyterlab-plotly v4.12.0  enabled  OK\n",
    "        jupyterlab_bokeh v1.0.0  enabled  OK`\n",
    "\n",
    "Plotly offers a variety of [visualizations](https://plotly.com/python/). From basic graphs to advanced interactive visualizations. We will go through different type of visualizations plotly is capable of. \n",
    "\n",
    "Read the [Plotly Fundamentals tutorials](https://plotly.com/python/plotly-fundamentals/) or dive straight in to some [Basic Charts tutorials.](https://plotly.com/python/basic-charts/)\n",
    "\n",
    "Plotly Express commands are list in [this reference](https://plotly.com/python-api-reference/plotly.express.html).\n",
    "\n",
    "Here are some simple examples for you to try. Play around with them to get a sense of how they work.\n",
    "\n",
    "We will be using numpy and pandas as well, so they'll be imported after plotly:"
   ]
  },
  {
   "cell_type": "code",
   "execution_count": null,
   "metadata": {},
   "outputs": [],
   "source": [
    "import plotly.express as px # plotly library\n",
    "import numpy as np # linear algebra\n",
    "import pandas as pd # data processing, CSV file I/O (e.g. pd.read_csv)"
   ]
  },
  {
   "cell_type": "markdown",
   "metadata": {},
   "source": [
    "## Bar graph"
   ]
  },
  {
   "cell_type": "markdown",
   "metadata": {},
   "source": [
    "With px.bar, each row of the DataFrame is represented as a rectangular mark. Customization documentation can be found [here](https://plotly.com/python/styling-plotly-express/). \n",
    "\n",
    "Every visualization created with plotly offers interactivy right away. If you hover over the bars a tooltip with information appears. Also, on the top right corner there are multiple option to zoom, pan, select, and more! You can even download a png version of the visualization. Try it yourself!"
   ]
  },
  {
   "cell_type": "code",
   "execution_count": null,
   "metadata": {},
   "outputs": [],
   "source": [
    "px.bar(y=[1, 1, 2, 3, 5, 8, 13, 21], title = \"Example Bar graph\", labels = {\"x\":\"X axis\", \"y\":\"Y axis\"})"
   ]
  },
  {
   "cell_type": "markdown",
   "metadata": {},
   "source": [
    "You can also create a figure object to have more flexibility later on. "
   ]
  },
  {
   "cell_type": "code",
   "execution_count": null,
   "metadata": {},
   "outputs": [],
   "source": [
    "fig = px.bar(y=[1, 1, 2, 3, 5, 8, 13, 21], title = \"Example Bar graph\", labels = {\"x\":\"X axis\", \"y\":\"Y axis\"})\n",
    "fig.show()"
   ]
  },
  {
   "cell_type": "markdown",
   "metadata": {},
   "source": [
    "## Scatter Plot"
   ]
  },
  {
   "cell_type": "markdown",
   "metadata": {},
   "source": [
    "With px.scatter, each data point is represented as a marker point, whose location is given by the x and y columns. Here we are using the [Iris Dataset](https://archive.ics.uci.edu/ml/datasets/iris) to plot sepal width vs length."
   ]
  },
  {
   "cell_type": "code",
   "execution_count": null,
   "metadata": {},
   "outputs": [],
   "source": [
    "df = px.data.iris()\n",
    "fig = px.scatter(df, \n",
    "                 x=\"sepal_width\", \n",
    "                 y=\"sepal_length\", \n",
    "                 color=\"species\",\n",
    "                 size='petal_length', \n",
    "                 hover_data=['petal_width'], # We can add more data to the tooltip\n",
    "                 labels={\"sepal_length\": \"Sepal length\", \n",
    "                         \"sepal_width\": \"Sepal width\",\n",
    "                         \"species\": \"Species\"}, \n",
    "                 title =\"Sepal width vs Sepal length\")\n",
    "fig.show()"
   ]
  },
  {
   "cell_type": "markdown",
   "metadata": {},
   "source": [
    "## Line graphs"
   ]
  },
  {
   "cell_type": "markdown",
   "metadata": {},
   "source": [
    "With px.line, each data point is represented as a vertex (which location is given by the x and y columns) of a polyline mark in 2D space. Here we are showing the life expectancy of every country in America."
   ]
  },
  {
   "cell_type": "code",
   "execution_count": null,
   "metadata": {},
   "outputs": [],
   "source": [
    "df = px.data.gapminder().query(\"continent=='Americas'\")\n",
    "fig = px.line(df, x=\"year\", y=\"lifeExp\", color='country', title=\"Life expectancy in America countries\")\n",
    "fig.show()"
   ]
  },
  {
   "cell_type": "markdown",
   "metadata": {},
   "source": [
    "## Histograms"
   ]
  },
  {
   "cell_type": "markdown",
   "metadata": {},
   "source": [
    "In plotly, a histogram is an aggregated bar chart, with several possible aggregation functions (e.g. sum, average, count...). Also, the data to be binned can be numerical data but also categorical or date data. By default, the number of bins is chosen so that this number is comparable to the typical number of samples in a bin. This number can be customized, as well as the range of values."
   ]
  },
  {
   "cell_type": "code",
   "execution_count": null,
   "metadata": {},
   "outputs": [],
   "source": [
    "x = np.random.randn(500)\n",
    "fig = px.histogram(x=x, histnorm='probability')\n",
    "\n",
    "fig.show()"
   ]
  },
  {
   "cell_type": "markdown",
   "metadata": {},
   "source": [
    "## 3D surface Plot"
   ]
  },
  {
   "cell_type": "markdown",
   "metadata": {},
   "source": [
    "There are a wide variety of visualizations possible with plotly. We will be using mostly plotly express. `plotly.graph_objects`contains more complex visualizations such as this cool 3D surface plot of Mt. Bruno. You can interact with it to see it from all angles."
   ]
  },
  {
   "cell_type": "code",
   "execution_count": null,
   "metadata": {},
   "outputs": [],
   "source": [
    "import plotly.graph_objects as go\n",
    "\n",
    "z_data = pd.read_csv('https://raw.githubusercontent.com/plotly/datasets/master/api_docs/mt_bruno_elevation.csv')\n",
    "\n",
    "fig = go.Figure(data=[go.Surface(z=z_data.values)])\n",
    "\n",
    "fig.update_layout(title='Mt Bruno Elevation', autosize=False,\n",
    "                  width=500, height=500,\n",
    "                  margin=dict(l=65, r=50, b=65, t=90))\n",
    "\n",
    "fig.show()"
   ]
  },
  {
   "cell_type": "markdown",
   "metadata": {},
   "source": [
    "# UFO Sightings dataset"
   ]
  },
  {
   "cell_type": "markdown",
   "metadata": {},
   "source": [
    "Let's create some visualizations using plotly with a dataset of [UFO sigthings](https://www.kaggle.com/thaddeussegura/ufo-sightings) in the US."
   ]
  },
  {
   "cell_type": "code",
   "execution_count": null,
   "metadata": {},
   "outputs": [],
   "source": [
    "df = pd.read_csv(\"clean_ufo_data.csv\")\n",
    "df.tail()"
   ]
  },
  {
   "cell_type": "markdown",
   "metadata": {},
   "source": [
    "The dates seem to have different formats. Let's change them all to datetime and put any unrecognized format as \"Not a Time\" (NaT) using the `errors='coerce'` option. This can take some time to finish."
   ]
  },
  {
   "cell_type": "code",
   "execution_count": null,
   "metadata": {},
   "outputs": [],
   "source": [
    "df[\"occurred_date_time\"] = pd.to_datetime(df[\"occurred_date_time\"], errors='coerce')"
   ]
  },
  {
   "cell_type": "code",
   "execution_count": null,
   "metadata": {},
   "outputs": [],
   "source": [
    "df.tail()"
   ]
  },
  {
   "cell_type": "markdown",
   "metadata": {},
   "source": [
    "They seem to have datetime format now, but a lot of them are NaT. We will drop any rows where date time is NaT."
   ]
  },
  {
   "cell_type": "code",
   "execution_count": null,
   "metadata": {
    "scrolled": true
   },
   "outputs": [],
   "source": [
    "df = df.dropna(subset=['occurred_date_time'])\n",
    "df.tail()"
   ]
  },
  {
   "cell_type": "markdown",
   "metadata": {},
   "source": [
    "Now it looks much better!\n",
    "\n",
    "Let's group the data by year and state. Using `groupby` we can count how many ocurrences there are for any combination of year an state."
   ]
  },
  {
   "cell_type": "code",
   "execution_count": null,
   "metadata": {},
   "outputs": [],
   "source": [
    "df_grouped = df.groupby([df[\"occurred_date_time\"].dt.year, df[\"state\"]])[\"id\"].count().reset_index(name=\"sightings\")\n",
    "df_grouped.rename(columns={'occurred_date_time':'year'}, inplace=True) # we will rename this column to be more representative (this is not necessary)\n",
    "df_grouped.head()"
   ]
  },
  {
   "cell_type": "markdown",
   "metadata": {},
   "source": [
    "Now we have a dataframe including year, state and number of sightings. Let's take a look into the data for Washington state."
   ]
  },
  {
   "cell_type": "code",
   "execution_count": null,
   "metadata": {
    "scrolled": true
   },
   "outputs": [],
   "source": [
    "df_wa = df_grouped[df_grouped[\"state\"]==\"WA\"]\n",
    "df_wa.tail(5)"
   ]
  },
  {
   "cell_type": "markdown",
   "metadata": {},
   "source": [
    "Let's create a bar chart of the sightings per year for Washinton state"
   ]
  },
  {
   "cell_type": "code",
   "execution_count": null,
   "metadata": {},
   "outputs": [],
   "source": [
    "fig = px.bar(df_wa,x=\"year\",y=\"sightings\", title=\"UFO sightings in Washington state\")\n",
    "fig.show()"
   ]
  },
  {
   "cell_type": "markdown",
   "metadata": {},
   "source": [
    "Creating a scatter plot of the same data is easy!"
   ]
  },
  {
   "cell_type": "code",
   "execution_count": null,
   "metadata": {},
   "outputs": [],
   "source": [
    "fig = px.scatter(df_wa, x=\"year\", y=\"sightings\", title=\"UFO sightings in Washington state\")\n",
    "fig.show()"
   ]
  },
  {
   "cell_type": "markdown",
   "metadata": {},
   "source": [
    "We want to see this data for all of the states at the same time. Let's create a scatter plot that includes all of the states."
   ]
  },
  {
   "cell_type": "code",
   "execution_count": null,
   "metadata": {},
   "outputs": [],
   "source": [
    "fig = px.scatter(df_grouped, x=\"year\", y=\"sightings\", color=\"state\", title=\"UFO sightings in USA per state\")\n",
    "fig.show()"
   ]
  },
  {
   "cell_type": "markdown",
   "metadata": {},
   "source": [
    "We can also create a new column that includes the cumulative sum of all the sightings."
   ]
  },
  {
   "cell_type": "code",
   "execution_count": null,
   "metadata": {},
   "outputs": [],
   "source": [
    "df_grouped['total'] = df_grouped.groupby(['state'])['sightings'].apply(lambda x: x.cumsum())\n",
    "df_grouped.tail()"
   ]
  },
  {
   "cell_type": "markdown",
   "metadata": {},
   "source": [
    "Using this data we can plot total UFO sightings per state using a line graph. You can filter data in the visualization using the state key."
   ]
  },
  {
   "cell_type": "code",
   "execution_count": null,
   "metadata": {},
   "outputs": [],
   "source": [
    "fig = px.line(df_grouped, x=\"year\", y=\"total\", color='state', title = \"Total UFO Sightings per state\")\n",
    "fig.show()"
   ]
  },
  {
   "cell_type": "markdown",
   "metadata": {},
   "source": [
    "There's too much occlusion. Let's do the same visualization but with the top 5 states with most sightings."
   ]
  },
  {
   "cell_type": "code",
   "execution_count": null,
   "metadata": {
    "scrolled": true
   },
   "outputs": [],
   "source": [
    "top5 = df_grouped.groupby(\"state\")[\"sightings\"].sum().sort_values(ascending=False).head(5).reset_index()[\"state\"]\n",
    "top5"
   ]
  },
  {
   "cell_type": "code",
   "execution_count": null,
   "metadata": {},
   "outputs": [],
   "source": [
    "fig = px.line(df_grouped[df_grouped[\"state\"].isin(top5)], \n",
    "              x=\"year\", \n",
    "              y=\"total\", \n",
    "              color='state', \n",
    "              title = \"Top 5 states with most UFO sightings\")\n",
    "fig.show()"
   ]
  },
  {
   "cell_type": "markdown",
   "metadata": {},
   "source": [
    "There is still some occlusion. If we have the data per state maybe using a map is better to show all the information at the same time."
   ]
  },
  {
   "cell_type": "markdown",
   "metadata": {},
   "source": [
    "## Choropleth map\n",
    "\n",
    "Using plotly we will create a choropleth map that show sightings per state. Let's show all the sightings in the year 2005. We will be using a color scale. You can read more about plotly built-in color scales [here](https://plotly.com/python/builtin-colorscales/)."
   ]
  },
  {
   "cell_type": "code",
   "execution_count": null,
   "metadata": {},
   "outputs": [],
   "source": [
    "year_df = df_grouped[df_grouped[\"year\"] == 2005]\n",
    "\n",
    "fig = px.choropleth(year_df, \n",
    "                    locations = \"state\",  \n",
    "                    locationmode=\"USA-states\", \n",
    "                    color='sightings',      \n",
    "                    color_continuous_scale=\"bluyl\",\n",
    "                    labels={'sightings':'UFO Sightings', \"state\":\"State\"},\n",
    "                    scope=\"usa\")\n",
    "\n",
    "fig.update_layout(title= \"UFO Sightings in 2005\", \n",
    "                  margin={\"r\":20,\"t\":100,\"l\":20,\"b\":20})\n",
    "\n",
    "fig.show()"
   ]
  },
  {
   "cell_type": "markdown",
   "metadata": {},
   "source": [
    "Let's also show the year. We can do that by adding a slider using the `animation_frame` option."
   ]
  },
  {
   "cell_type": "code",
   "execution_count": null,
   "metadata": {},
   "outputs": [],
   "source": [
    "fig = px.choropleth(df_grouped, \n",
    "                    locations=df_grouped['state'],  \n",
    "                    locationmode=\"USA-states\", \n",
    "                    color='sightings',      \n",
    "                    color_continuous_scale=\"bluyl\",\n",
    "                    scope=\"usa\",\n",
    "                    animation_frame=\"year\", \n",
    "                    title= \"UFO Sightings per year\",\n",
    "                    labels={'sightings':'UFO Sightings', \"state\":\"State\"})\n",
    "fig.show()"
   ]
  },
  {
   "cell_type": "markdown",
   "metadata": {},
   "source": [
    "Now we can move through the years! You can see that the range of UFO sightings changes for each year. Comparing between years is more difficult that way. To fix this we can add a fixed range for all of the years with the option `range_color`."
   ]
  },
  {
   "cell_type": "code",
   "execution_count": null,
   "metadata": {},
   "outputs": [],
   "source": [
    "fig = px.choropleth(df_grouped, \n",
    "                    locations=df_grouped['state'],  \n",
    "                    locationmode=\"USA-states\", \n",
    "                    color='sightings',      \n",
    "                    color_continuous_scale=\"bluyl\",\n",
    "                    range_color=(0, df_grouped[\"sightings\"].max()), # Fixed color range\n",
    "                    scope=\"usa\",\n",
    "                    animation_frame=\"year\", \n",
    "                    title= \"UFO Sightings per year\",\n",
    "                    labels={'sightings':'UFO Sightings', \"state\":\"State\"})\n",
    "fig.update_layout(margin={\"r\":20,\"t\":100,\"l\":20,\"b\":20})\n",
    "fig.show()"
   ]
  },
  {
   "cell_type": "markdown",
   "metadata": {},
   "source": [
    "Now we have an interactive visualization that shows all the sightings per year and state at the same time."
   ]
  },
  {
   "cell_type": "markdown",
   "metadata": {},
   "source": [
    "# Exercises\n",
    "\n",
    "Refer to the examples above to guide you in completing the following exercises. You may need to do some research in the Plotly or Pandas documentation to help you out.\n",
    "\n",
    "For this set of exercises you will be using the [Bird Strikes](https://www.kaggle.com/breana/bird-strikes) dataset. The dataset contains a record of each reported wildlife strike of a military, commercial, or civil aircraft between 1990 and 2015. Each row contains the incident date, aircraft operator, aircraft make and model, airport name and location, species name and quantity, and aircraft damage.\n",
    "\n",
    "First make sure you can load the dataset:"
   ]
  },
  {
   "cell_type": "code",
   "execution_count": null,
   "metadata": {},
   "outputs": [],
   "source": [
    "bird_df = pd.read_csv(\"bird_strikes.csv\")"
   ]
  },
  {
   "cell_type": "code",
   "execution_count": null,
   "metadata": {},
   "outputs": [],
   "source": [
    "bird_df.head()"
   ]
  },
  {
   "cell_type": "markdown",
   "metadata": {},
   "source": [
    "## Exercise 1"
   ]
  },
  {
   "cell_type": "markdown",
   "metadata": {},
   "source": [
    "1. Plot a bar graph of incidents per year.\n",
    "2. Plot a bar graph of incidents per year for Air Canada, Delta Air Lines, American Airlines and Hawaiian Airlines in the same visualization."
   ]
  },
  {
   "cell_type": "markdown",
   "metadata": {},
   "source": [
    "## Exercise 2\n",
    " \n",
    "1. Make a scatter plot of the top 10 airlines with most incidents\n",
    "2. Plot a line graph of cumulative incidents per year for Air Canada, Delta, American Airlines and Hawaiian Airlines in the same visualization."
   ]
  },
  {
   "cell_type": "markdown",
   "metadata": {},
   "source": [
    "## Exercise 3\n",
    "\n",
    "1. Create a Choroplet map that shows the total number of incidents per state.\n",
    "2. Add a slider to change years to your Choropleth map"
   ]
  },
  {
   "cell_type": "markdown",
   "metadata": {},
   "source": [
    "## Exercise 4 (extra credit)\n",
    "\n",
    "Create a new (fun) additional visualization of a type that we did not cover in class using the same dataset. You can look for inspirations [here](https://plotly.com/python/)! Explain your chart, including choice of dimensions, values, and encodings in comments or a markdown text box."
   ]
  }
 ],
 "metadata": {
  "kernelspec": {
   "display_name": "Python 3",
   "language": "python",
   "name": "python3"
  },
  "language_info": {
   "codemirror_mode": {
    "name": "ipython",
    "version": 3
   },
   "file_extension": ".py",
   "mimetype": "text/x-python",
   "name": "python",
   "nbconvert_exporter": "python",
   "pygments_lexer": "ipython3",
   "version": "3.7.4"
  }
 },
 "nbformat": 4,
 "nbformat_minor": 4
}
