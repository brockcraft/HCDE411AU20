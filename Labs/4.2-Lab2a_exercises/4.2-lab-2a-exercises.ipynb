{
 "cells": [
  {
   "cell_type": "markdown",
   "metadata": {
    "colab_type": "text",
    "id": "5AnGYXdukSp3"
   },
   "source": [
    "# Lab 2A Exercises"
   ]
  },
  {
   "cell_type": "markdown",
   "metadata": {
    "colab_type": "text",
    "id": "AlTxPQ8Tgiuh"
   },
   "source": [
    "Make sure that the lab file (data_cars_2004.csv) is stored on your notebook server before continuing with the following exercises.\n",
    "\n",
    "In Exercises 1-3, we'll open a file containing data about cars and create subsets/derivations of the data for a report (and ultimately perhaps for a visualization)."
   ]
  },
  {
   "cell_type": "markdown",
   "metadata": {
    "colab_type": "text",
    "id": "BLW7H2KMkSqB"
   },
   "source": [
    "### Exercise #1"
   ]
  },
  {
   "cell_type": "markdown",
   "metadata": {
    "colab_type": "text",
    "id": "iSuY4Urs5-yU"
   },
   "source": [
    "Use the source data to construct a new data file named **“german_cars_2004.csv”** that lists cars manufactured by any **German company** (e.g., Audi, BMW, Mercedes-Benz, Porsche, and Volkswagen).\n",
    "\n",
    "The new data should include 9 dimensions as follows:\n",
    "\n",
    "**“Vehicle Name, Engine Size, Cyl, HP, City MPG, Hwy MPG, Weight, Wheel Base, Len, and Width).”**\n",
    "\n",
    "The first line of the data is a header where the aforementioned dimensions are stored as a string. The actual data should be stored starting from the second row.\n",
    "\n",
    "Save the file as **“german_cars_2004.csv”**.\n"
   ]
  },
  {
   "cell_type": "code",
   "execution_count": 4,
   "metadata": {
    "colab": {},
    "colab_type": "code",
    "id": "ElKeDGuXuZm8"
   },
   "outputs": [],
   "source": [
    "import csv\n",
    "fin_name = \"data_cars_2004.csv\"  # file-in name is \"fin\"\n",
    "fin = open (fin_name, \"r\")      # open \"fin\"\n",
    "reader = csv.reader(fin)        # use the csv library to read the file\n",
    "\n",
    "############################################################################\n",
    "# Put your code here\n",
    "############################################################################\n",
    "\n",
    "  \n",
    "############################################################################\n",
    "fin.close()                     # close \"fin\"\n"
   ]
  },
  {
   "cell_type": "markdown",
   "metadata": {
    "colab_type": "text",
    "id": "1RBnSeYpuPue"
   },
   "source": [
    "### Exercise #2"
   ]
  },
  {
   "cell_type": "markdown",
   "metadata": {
    "colab_type": "text",
    "id": "CmPFnvXFkSqC"
   },
   "source": [
    "Use the source data to construct a new file named **“cars_2004_netprofit.csv”** that add attribute named “Net” to each car record.\n",
    "\n",
    "“Net” can be calculated with simple math as follows: \n",
    "**((Retail Price–Dealer Cost)/Retail Price)*100.**\n",
    "\n",
    "The new data should include 10 dimensions as follows:\n",
    "\n",
    "**“Vehicle Name, Engine Size, Cyl, HP, City MPG, Hwy MPG, Weight, Wheel Base, Len, Width, and Net).”**\n",
    "\n",
    "The first line of the data is a header where the aforementioned dimensions are stored as a comma separated string. The actual data record starts from the second row.\n",
    "\n",
    "Save the file as **“cars_2004_netprofit.csv”**."
   ]
  },
  {
   "cell_type": "code",
   "execution_count": 5,
   "metadata": {
    "colab": {},
    "colab_type": "code",
    "id": "Aj_B4dofvN4R"
   },
   "outputs": [],
   "source": [
    "import csv\n",
    "fin_name = \"data_cars_2004.csv\"  # file-in name is \"fin\"\n",
    "fin = open (fin_name, \"r\")      # open \"fin\"\n",
    "reader = csv.reader(fin)        # use the csv library to read the file\n",
    "\n",
    "############################################################################\n",
    "# Put your code here\n",
    "############################################################################\n",
    "\n",
    "\n",
    "############################################################################\n",
    "fin.close()                     # close \"fin\""
   ]
  },
  {
   "cell_type": "markdown",
   "metadata": {
    "colab_type": "text",
    "id": "dc2IX3DqkSqG"
   },
   "source": [
    "### Exercise #3"
   ]
  },
  {
   "cell_type": "markdown",
   "metadata": {
    "colab_type": "text",
    "id": "XTwBJC6r_utP"
   },
   "source": [
    "Use the source data to construct two data files named **“cars_2004_over50000.csv”** which stores cars that have equal or greater to 50,000 for Dealer Cost and **“cars_2004_under50000.csv”** which includes cars that have under 50,000 for Dealer Cost.\n",
    "\n",
    "The new data should include 10 dimensions as follows (include the \"Net\" dimension we added in Exercise #2):\n",
    "\n",
    "**“Vehicle Name, Engine Size, Cyl, HP, City MPG, Hwy MPG, Weight, Wheel Base, Len, Width, and Net).”**\n",
    "\n",
    "The first line of the data is a header where the aforementioned dimensions are stored as a comma separated string. The actual data record starts from the second row.\n",
    "\n",
    "Save the file as **“cars_2004_over50000.csv”** and **“cars_2004_under50000.csv”**."
   ]
  },
  {
   "cell_type": "code",
   "execution_count": 6,
   "metadata": {
    "colab": {},
    "colab_type": "code",
    "id": "0l5bdFyP7JBa"
   },
   "outputs": [],
   "source": [
    "import csv\n",
    "fin_name = \"data_cars_2004.csv\"  # file-in name is \"fin\"\n",
    "fin = open (fin_name, \"r\")      # open \"fin\"\n",
    "reader = csv.reader(fin)        # use the csv library to read the file\n",
    "\n",
    "############################################################################\n",
    "# Put your code here\n",
    "############################################################################\n",
    "\n",
    "\n",
    "############################################################################\n",
    "fin.close() "
   ]
  }
 ],
 "metadata": {
  "colab": {
   "collapsed_sections": [],
   "include_colab_link": true,
   "name": "Lab 2a Exercises",
   "provenance": []
  },
  "kernelspec": {
   "display_name": "Python 3",
   "language": "python",
   "name": "python3"
  },
  "language_info": {
   "codemirror_mode": {
    "name": "ipython",
    "version": 3
   },
   "file_extension": ".py",
   "mimetype": "text/x-python",
   "name": "python",
   "nbconvert_exporter": "python",
   "pygments_lexer": "ipython3",
   "version": "3.7.4"
  }
 },
 "nbformat": 4,
 "nbformat_minor": 4
}
