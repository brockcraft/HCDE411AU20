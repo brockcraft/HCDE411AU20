{
 "cells": [
  {
   "cell_type": "markdown",
   "metadata": {
    "colab_type": "text",
    "id": "5AnGYXdukSp3"
   },
   "source": [
    "# Lab 2A Exercises"
   ]
  },
  {
   "cell_type": "markdown",
   "metadata": {
    "colab_type": "text",
    "id": "AlTxPQ8Tgiuh"
   },
   "source": [
    "Make sure that the lab file (data_cars_2004.csv) is stored on your notebook server before continuing with the following exercises.\n",
    "\n",
    "In Exercises 1-3, we'll open a file containing data about cars and create subsets/derivations of the data for a report (and ultimately perhaps for a visualization)."
   ]
  },
  {
   "cell_type": "markdown",
   "metadata": {
    "colab_type": "text",
    "id": "BLW7H2KMkSqB"
   },
   "source": [
    "### Exercise #1"
   ]
  },
  {
   "cell_type": "markdown",
   "metadata": {
    "colab_type": "text",
    "id": "iSuY4Urs5-yU"
   },
   "source": [
    "Use the source data to construct a new data file named **“german_cars_2004.csv”** that lists cars manufactured by any **German company** (e.g., Audi, BMW, Mercedes-Benz, Porsche, and Volkswagen).\n",
    "\n",
    "The new data should include 9 dimensions as follows:\n",
    "\n",
    "**“Vehicle Name, Engine Size, Cyl, HP, City MPG, Hwy MPG, Weight, Wheel Base, Len, and Width).”**\n",
    "\n",
    "The first line of the data is a header where the aforementioned dimensions are stored as a string. The actual data should be stored starting from the second row.\n",
    "\n",
    "Save the file as **“german_cars_2004.csv”**.\n"
   ]
  },
  {
   "cell_type": "code",
   "execution_count": 4,
   "metadata": {
    "colab": {},
    "colab_type": "code",
    "id": "ElKeDGuXuZm8"
   },
   "outputs": [],
   "source": [
    "import csv\n",
    "fin_name = \"data_cars_2004.csv\"  # file-in name is \"fin\"\n",
    "fin = open (fin_name, \"r\")      # open \"fin\"\n",
    "reader = csv.reader(fin)        # use the csv library to read the file\n",
    "\n",
    "############################################################################\n",
    "# Put your code here\n",
    "############################################################################\n",
    "\n",
    "  \n",
    "############################################################################\n",
    "fin.close()                     # close \"fin\"\n"
   ]
  },
  {
   "cell_type": "markdown",
   "metadata": {
    "colab_type": "text",
    "id": "1RBnSeYpuPue"
   },
   "source": [
    "### Exercise #2"
   ]
  },
  {
   "cell_type": "markdown",
   "metadata": {
    "colab_type": "text",
    "id": "CmPFnvXFkSqC"
   },
   "source": [
    "Use the source data to construct a new file named **“cars_2004_netprofit.csv”** that add attribute named “Net” to each car record.\n",
    "\n",
    "“Net” can be calculated with simple math as follows: \n",
    "**((Retail Price–Dealer Cost)/Retail Price)*100.**\n",
    "\n",
    "The new data should include 10 dimensions as follows:\n",
    "\n",
    "**“Vehicle Name, Engine Size, Cyl, HP, City MPG, Hwy MPG, Weight, Wheel Base, Len, Width, and Net).”**\n",
    "\n",
    "The first line of the data is a header where the aforementioned dimensions are stored as a comma separated string. The actual data record starts from the second row.\n",
    "\n",
    "Save the file as **“cars_2004_netprofit.csv”**."
   ]
  },
  {
   "cell_type": "code",
   "execution_count": 5,
   "metadata": {
    "colab": {},
    "colab_type": "code",
    "id": "Aj_B4dofvN4R"
   },
   "outputs": [],
   "source": [
    "import csv\n",
    "fin_name = \"data_cars_2004.csv\"  # file-in name is \"fin\"\n",
    "fin = open (fin_name, \"r\")      # open \"fin\"\n",
    "reader = csv.reader(fin)        # use the csv library to read the file\n",
    "\n",
    "############################################################################\n",
    "# Put your code here\n",
    "############################################################################\n",
    "\n",
    "\n",
    "############################################################################\n",
    "fin.close()                     # close \"fin\""
   ]
  },
  {
   "cell_type": "markdown",
   "metadata": {
    "colab_type": "text",
    "id": "dc2IX3DqkSqG"
   },
   "source": [
    "### Exercise #3"
   ]
  },
  {
   "cell_type": "markdown",
   "metadata": {
    "colab_type": "text",
    "id": "XTwBJC6r_utP"
   },
   "source": [
    "Use the source data to construct two data files named **“cars_2004_over50000.csv”** which stores cars that have equal or greater to 50,000 for Dealer Cost and **“cars_2004_under50000.csv”** which includes cars that have under 50,000 for Dealer Cost.\n",
    "\n",
    "The new data should include 10 dimensions as follows (include the \"Net\" dimension we added in Exercise #2):\n",
    "\n",
    "**“Vehicle Name, Engine Size, Cyl, HP, City MPG, Hwy MPG, Weight, Wheel Base, Len, Width, and Net).”**\n",
    "\n",
    "The first line of the data is a header where the aforementioned dimensions are stored as a comma separated string. The actual data record starts from the second row.\n",
    "\n",
    "Save the file as **“cars_2004_over50000.csv”** and **“cars_2004_under50000.csv”**."
   ]
  },
  {
   "cell_type": "code",
   "execution_count": 6,
   "metadata": {
    "colab": {},
    "colab_type": "code",
    "id": "0l5bdFyP7JBa"
   },
   "outputs": [],
   "source": [
    "import csv\n",
    "fin_name = \"data_cars_2004.csv\"  # file-in name is \"fin\"\n",
    "fin = open (fin_name, \"r\")      # open \"fin\"\n",
    "reader = csv.reader(fin)        # use the csv library to read the file\n",
    "\n",
    "############################################################################\n",
    "# Put your code here\n",
    "############################################################################\n",
    "\n",
    "\n",
    "############################################################################\n",
    "fin.close() "
   ]
  },
  {
   "cell_type": "markdown",
   "metadata": {},
   "source": [
    "## Python JSON to CSV exercise\n",
    "\n",
    "Source data: **[bgt_bike_and_peds.json](https://drive.google.com/open?id=1GBJunIGe5i0qbI6ZrCkzRlVPmiTgyTKt)**. \n",
    "\n",
    "The dataset we are working with is constructed from data.seattle.gov which present a count of traffic per hour on the Burke-Gilman trail NE 70th street, broken down by bicycles and pedestrian traffic.\n",
    "\n",
    "### EXAMPLE\n",
    "Use the source data to construct a new data named **“bgt_bike_and_peds_weekday.csv”** that shows counts of pedestrian and bicycles per each weekday. More specific file format is presented as follows:\n",
    "\n",
    "The first line of the data is a header where the dimensions of *weekday , ped_s, ped_n, bike_s, bike_n, and total*. \n",
    "\n",
    "Weekday starts from 0 which means Monday and ends with 6 which means Sunday.\n",
    "\n",
    "The actual data (in total, 7 lines) should be presented from the second row.\n",
    "In checking weekday, you may find [this link](https://docs.python.org/3/library/datetime.html) to be useful."
   ]
  },
  {
   "cell_type": "code",
   "execution_count": 5,
   "metadata": {},
   "outputs": [],
   "source": [
    "import csv\n",
    "fin_name = \"bgt_bike_and_peds.json\"  # file-in name is \"fin\"\n",
    "fin = open (fin_name, \"r\")      # open \"fin\"\n",
    "\n",
    "############################################################################\n",
    "# Put your code here\n",
    "############################################################################\n",
    "import json\n",
    "\n",
    "counts = {}\n",
    "\n",
    "for weekday in range(7):\n",
    "    counts[weekday] = {\n",
    "        \"weekday\": weekday,\n",
    "        \"ped_s\": 0, \n",
    "        \"ped_n\": 0, \n",
    "        \"bike_s\": 0, \n",
    "        \"bike_n\": 0, \n",
    "        \"total\": 0\n",
    "    }\n",
    "    \n",
    "mapping = {\n",
    "      \"BGT North of NE 70th Total\": \"total\",\n",
    "      \"Ped South\": \"ped_s\",\n",
    "      \"Ped North\": \"ped_n\",\n",
    "      \"Bike North\": \"bike_n\",\n",
    "      \"Bike South\": \"bike_s\"\n",
    "}\n",
    "\n",
    "from datetime import datetime\n",
    "\n",
    "for entry in json.load(fin):\n",
    "    t = entry[\"Date\"]\n",
    "    dt_obj = datetime.strptime(t, \"%m/%d/%Y %I:%M:%S %p\")\n",
    "    weekday = dt_obj.weekday()\n",
    "    \n",
    "    for term, mapped_term in mapping.items():\n",
    "        val = 0\n",
    "        if entry[term].strip() != '':\n",
    "           val = int(entry[term])\n",
    "        counts[weekday][mapped_term] += val\n",
    "    #print(json.dumps(counts, indent=3))\n",
    "    #input()\n",
    "    \n",
    "import csv\n",
    "fout = open(\"bgt_bike_and_peds_weekday.csv\", \"w\")\n",
    "fieldnames = [\"weekday\", \"ped_s\", \"ped_n\", \"bike_s\", \"bike_n\", \"total\"]\n",
    "writer = csv.DictWriter(fout, fieldnames=fieldnames)\n",
    "writer.writeheader()\n",
    "\n",
    "for weekday in range(7):\n",
    "    writer.writerow(counts[weekday])\n",
    "\n",
    "fout.close()\n",
    "############################################################################\n",
    "fin.close()                     # close \"fin\"\n"
   ]
  },
  {
   "cell_type": "markdown",
   "metadata": {},
   "source": [
    "#### Exercise #4\n",
    "\n",
    "Use the source data to construct a new data named **“bgt_bike_and_peds_month.csv”** that shows counts of pedestrian and bicycles per each month. More specific file format is presented as follows:\n",
    "\n",
    "The first line of the data is a header where the dimensions of *month , ped_s, ped_n, bike_s, bike_n, and total*. \n",
    "\n",
    "Month starts from 0 which means January and ends with 11 which means December.\n",
    "\n",
    "The actual data (in total, 12 lines) should be presented from the second row."
   ]
  },
  {
   "cell_type": "code",
   "execution_count": 1,
   "metadata": {
    "collapsed": true,
    "jupyter": {
     "outputs_hidden": true
    }
   },
   "outputs": [
    {
     "ename": "FileNotFoundError",
     "evalue": "[Errno 2] No such file or directory: 'bgt_bike_and_peds.json'",
     "output_type": "error",
     "traceback": [
      "\u001b[0;31m---------------------------------------------------------------------------\u001b[0m",
      "\u001b[0;31mFileNotFoundError\u001b[0m                         Traceback (most recent call last)",
      "\u001b[0;32m<ipython-input-1-7e4d10340f2b>\u001b[0m in \u001b[0;36m<module>\u001b[0;34m\u001b[0m\n\u001b[1;32m      1\u001b[0m \u001b[0;32mimport\u001b[0m \u001b[0mcsv\u001b[0m\u001b[0;34m\u001b[0m\u001b[0;34m\u001b[0m\u001b[0m\n\u001b[1;32m      2\u001b[0m \u001b[0mfin_name\u001b[0m \u001b[0;34m=\u001b[0m \u001b[0;34m\"bgt_bike_and_peds.json\"\u001b[0m  \u001b[0;31m# file-in name is \"fin\"\u001b[0m\u001b[0;34m\u001b[0m\u001b[0;34m\u001b[0m\u001b[0m\n\u001b[0;32m----> 3\u001b[0;31m \u001b[0mfin\u001b[0m \u001b[0;34m=\u001b[0m \u001b[0mopen\u001b[0m \u001b[0;34m(\u001b[0m\u001b[0mfin_name\u001b[0m\u001b[0;34m,\u001b[0m \u001b[0;34m\"r\"\u001b[0m\u001b[0;34m)\u001b[0m      \u001b[0;31m# open \"fin\"\u001b[0m\u001b[0;34m\u001b[0m\u001b[0;34m\u001b[0m\u001b[0m\n\u001b[0m\u001b[1;32m      4\u001b[0m \u001b[0;34m\u001b[0m\u001b[0m\n\u001b[1;32m      5\u001b[0m \u001b[0;31m############################################################################\u001b[0m\u001b[0;34m\u001b[0m\u001b[0;34m\u001b[0m\u001b[0;34m\u001b[0m\u001b[0m\n",
      "\u001b[0;31mFileNotFoundError\u001b[0m: [Errno 2] No such file or directory: 'bgt_bike_and_peds.json'"
     ]
    }
   ],
   "source": [
    "import csv\n",
    "fin_name = \"bgt_bike_and_peds.json\"  # file-in name is \"fin\"\n",
    "fin = open (fin_name, \"r\")      # open \"fin\"\n",
    "\n",
    "############################################################################\n",
    "# Put your code here\n",
    "############################################################################\n",
    "\n",
    "\n",
    "\n",
    "############################################################################\n",
    "fin.close()                     # close \"fin\"\n",
    "\n",
    "# download the results\n",
    "from google.colab import files\n",
    "files.download('bgt_bike_and_peds_month.csv')"
   ]
  },
  {
   "cell_type": "markdown",
   "metadata": {},
   "source": [
    "### Exercise #5\n",
    "\n",
    "Use the source data to construct a new data named “bgt_bike_and_peds_time.csv” that shows counts of pedestrian and bicycles per each time in a day. More specific file format is presented as follows:\n",
    "\n",
    "The first line of the data is a header where the dimensions of time , ped_s, ped_n, bike_s, bike_n, and total.\n",
    "\n",
    "Month starts from 0 which means 12:00 A.M. and ends with 23 which means 11:00 P.M. The actual data (in total, 24 lines) should be presented from the second row."
   ]
  },
  {
   "cell_type": "code",
   "execution_count": 2,
   "metadata": {
    "collapsed": true,
    "jupyter": {
     "outputs_hidden": true
    }
   },
   "outputs": [
    {
     "ename": "FileNotFoundError",
     "evalue": "[Errno 2] No such file or directory: 'bgt_bike_and_peds.json'",
     "output_type": "error",
     "traceback": [
      "\u001b[0;31m---------------------------------------------------------------------------\u001b[0m",
      "\u001b[0;31mFileNotFoundError\u001b[0m                         Traceback (most recent call last)",
      "\u001b[0;32m<ipython-input-2-69606e7d2e2e>\u001b[0m in \u001b[0;36m<module>\u001b[0;34m\u001b[0m\n\u001b[1;32m      1\u001b[0m \u001b[0;32mimport\u001b[0m \u001b[0mcsv\u001b[0m\u001b[0;34m\u001b[0m\u001b[0;34m\u001b[0m\u001b[0m\n\u001b[1;32m      2\u001b[0m \u001b[0mfin_name\u001b[0m \u001b[0;34m=\u001b[0m \u001b[0;34m\"bgt_bike_and_peds.json\"\u001b[0m  \u001b[0;31m# file-in name is \"fin\"\u001b[0m\u001b[0;34m\u001b[0m\u001b[0;34m\u001b[0m\u001b[0m\n\u001b[0;32m----> 3\u001b[0;31m \u001b[0mfin\u001b[0m \u001b[0;34m=\u001b[0m \u001b[0mopen\u001b[0m \u001b[0;34m(\u001b[0m\u001b[0mfin_name\u001b[0m\u001b[0;34m,\u001b[0m \u001b[0;34m\"r\"\u001b[0m\u001b[0;34m)\u001b[0m      \u001b[0;31m# open \"fin\"\u001b[0m\u001b[0;34m\u001b[0m\u001b[0;34m\u001b[0m\u001b[0m\n\u001b[0m\u001b[1;32m      4\u001b[0m \u001b[0;34m\u001b[0m\u001b[0m\n\u001b[1;32m      5\u001b[0m \u001b[0;31m############################################################################\u001b[0m\u001b[0;34m\u001b[0m\u001b[0;34m\u001b[0m\u001b[0;34m\u001b[0m\u001b[0m\n",
      "\u001b[0;31mFileNotFoundError\u001b[0m: [Errno 2] No such file or directory: 'bgt_bike_and_peds.json'"
     ]
    }
   ],
   "source": [
    "import csv\n",
    "fin_name = \"bgt_bike_and_peds.json\"  # file-in name is \"fin\"\n",
    "fin = open (fin_name, \"r\")      # open \"fin\"\n",
    "\n",
    "############################################################################\n",
    "# Put your code here\n",
    "############################################################################\n",
    "\n",
    "\n",
    "\n",
    "############################################################################\n",
    "fin.close()                     # close \"fin\"\n",
    "\n",
    "# download the results\n",
    "from google.colab import files\n",
    "files.download('bgt_bike_and_peds_time.csv')"
   ]
  }
 ],
 "metadata": {
  "colab": {
   "collapsed_sections": [],
   "include_colab_link": true,
   "name": "Lab 2a Exercises",
   "provenance": []
  },
  "kernelspec": {
   "display_name": "Python 3",
   "language": "python",
   "name": "python3"
  },
  "language_info": {
   "codemirror_mode": {
    "name": "ipython",
    "version": 3
   },
   "file_extension": ".py",
   "mimetype": "text/x-python",
   "name": "python",
   "nbconvert_exporter": "python",
   "pygments_lexer": "ipython3",
   "version": "3.7.4"
  }
 },
 "nbformat": 4,
 "nbformat_minor": 4
}
